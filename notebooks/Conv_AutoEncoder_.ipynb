{
 "cells": [
  {
   "cell_type": "markdown",
   "metadata": {},
   "source": [
    "### Import Library"
   ]
  },
  {
   "cell_type": "code",
   "execution_count": 1,
   "metadata": {
    "ExecuteTime": {
     "end_time": "2021-07-06T06:21:01.396450Z",
     "start_time": "2021-07-06T06:20:58.829263Z"
    }
   },
   "outputs": [],
   "source": [
    "import os\n",
    "import pandas as pd\n",
    "import numpy as np\n",
    "import matplotlib\n",
    "import seaborn as sns\n",
    "import matplotlib.dates as md\n",
    "from matplotlib import pyplot as plt\n",
    "import pickle\n",
    "\n",
    "import torch\n",
    "import torch.nn as nn\n",
    "import torch.nn.functional as F\n",
    "import torch.utils.data as data_utils\n",
    "import sklearn\n",
    "from sklearn.cluster import KMeans\n",
    "from sklearn.preprocessing import MinMaxScaler\n",
    "from itertools import combinations\n",
    "import random"
   ]
  },
  {
   "cell_type": "markdown",
   "metadata": {},
   "source": [
    "### get_seed"
   ]
  },
  {
   "cell_type": "code",
   "execution_count": 2,
   "metadata": {
    "ExecuteTime": {
     "end_time": "2021-07-06T06:21:02.901750Z",
     "start_time": "2021-07-06T06:21:02.887237Z"
    }
   },
   "outputs": [],
   "source": [
    "random_seed = 42\n",
    "torch.manual_seed(random_seed)\n",
    "torch.backends.cudnn.deterministic = True\n",
    "torch.backends.cudnn.benchmark = False\n",
    "\n",
    "np.random.seed(random_seed)\n",
    "random.seed(random_seed)\n",
    "\n",
    "torch.cuda.manual_seed(random_seed)"
   ]
  },
  {
   "cell_type": "markdown",
   "metadata": {},
   "source": [
    "### get_array"
   ]
  },
  {
   "cell_type": "code",
   "execution_count": 3,
   "metadata": {
    "ExecuteTime": {
     "end_time": "2021-07-06T06:21:24.655613Z",
     "start_time": "2021-07-06T06:21:03.944942Z"
    }
   },
   "outputs": [
    {
     "name": "stdout",
     "output_type": "stream",
     "text": [
      "(58631, 10, 2000)\n",
      "(8744, 10, 2000)\n"
     ]
    }
   ],
   "source": [
    "train_array = np.load('/workspace/대회/npy_files/all_array_.npy')\n",
    "\n",
    "inf_array = np.load('/workspace/대회/npy_files/inf_array_.npy')\n",
    "\n",
    "train_array_T = np.transpose(train_array,(0,2,1))\n",
    "inf_array_T = np.transpose(inf_array,(0,2,1))\n",
    "\n",
    "print(train_array_T.shape)\n",
    "print(inf_array_T.shape)"
   ]
  },
  {
   "cell_type": "markdown",
   "metadata": {},
   "source": [
    "### get_loader"
   ]
  },
  {
   "cell_type": "code",
   "execution_count": 4,
   "metadata": {
    "ExecuteTime": {
     "end_time": "2021-07-06T06:21:24.665062Z",
     "start_time": "2021-07-06T06:21:24.658705Z"
    }
   },
   "outputs": [],
   "source": [
    "BATCH_SIZE =  128\n",
    "\n",
    "train_loader = torch.utils.data.DataLoader(train_array_T[:300,:3,:], batch_size=BATCH_SIZE, shuffle=False, num_workers=0)\n",
    "inf_loader = torch.utils.data.DataLoader(inf_array_T[:,:3,:], batch_size = BATCH_SIZE, shuffle=False, num_workers=0)"
   ]
  },
  {
   "cell_type": "markdown",
   "metadata": {},
   "source": [
    "### Encoder"
   ]
  },
  {
   "cell_type": "code",
   "execution_count": 5,
   "metadata": {
    "ExecuteTime": {
     "end_time": "2021-07-06T06:21:24.690393Z",
     "start_time": "2021-07-06T06:21:24.670027Z"
    }
   },
   "outputs": [],
   "source": [
    "class Encoder(nn.Module):\n",
    "    def __init__(self,  in_channel, out_channel_lst, kernel_size, stride):\n",
    "        super().__init__()\n",
    "        self.in_channel = in_channel\n",
    "        self.out_channel_lst = out_channel_lst \n",
    "        self.kernel_size = kernel_size \n",
    "        self.stride = stride \n",
    "\n",
    "\n",
    "        self.conv1d_1 = nn.Conv1d(self.in_channel, self.out_channel_lst[0], self.kernel_size, self.stride)\n",
    "\n",
    "        self.conv1d_2 = nn.Conv1d(self.out_channel_lst[0], self.out_channel_lst[1], self.kernel_size, self.stride)\n",
    "        \n",
    "        self.bn1 = nn.BatchNorm1d(self.out_channel_lst[0])\n",
    "        self.bn2 = nn.BatchNorm1d(self.out_channel_lst[1])\n",
    "        \n",
    "        self.after_1 = int((2000-self.kernel_size)//self.stride+1)\n",
    "        self.after_2 = int((self.after_1-self.kernel_size)//self.stride+1)\n",
    "        \n",
    "        self.fc1 = nn.Linear(self.after_2,self.after_2//2)\n",
    "        self.fc2 = nn.Linear(self.after_2//2,self.after_2//4)\n",
    "        \n",
    "\n",
    "    def forward(self, x):\n",
    "#         print('input_shape',x.shape)\n",
    "        \n",
    "        w_1 = self.bn1(self.conv1d_1(x))\n",
    "#         print('w_1',w_1.shape)\n",
    "        \n",
    "        w_2 = self.bn2(self.conv1d_2(w_1))\n",
    "#         print('w_2',w_2.shape)\n",
    "        \n",
    "        w_3 = w_2.view(w_2.shape[0],-1)\n",
    "#         print('w_3', w_3.shape)\n",
    "        \n",
    "        l_1 = self.fc1(w_3)\n",
    "#         print('l_1',l_1.shape)\n",
    "\n",
    "        l_2 = self.fc2(l_1)\n",
    "#         print('l_2',l_2.shape)\n",
    "\n",
    "\n",
    "        return l_2"
   ]
  },
  {
   "cell_type": "markdown",
   "metadata": {},
   "source": [
    "### Decoder"
   ]
  },
  {
   "cell_type": "code",
   "execution_count": 6,
   "metadata": {
    "ExecuteTime": {
     "end_time": "2021-07-06T06:21:24.713429Z",
     "start_time": "2021-07-06T06:21:24.694563Z"
    }
   },
   "outputs": [],
   "source": [
    "class Decoder(nn.Module):\n",
    "    def __init__(self,  in_channel, out_channel_lst, kernel_size, stride):\n",
    "        super().__init__()\n",
    "        self.in_channel = in_channel\n",
    "        self.out_channel_lst = out_channel_lst \n",
    "        self.kernel_size = kernel_size \n",
    "        self.stride = stride\n",
    "\n",
    "\n",
    "        self.conv1d_1 = nn.ConvTranspose1d( self.out_channel_lst[1], self.out_channel_lst[0], self.kernel_size, self.stride)\n",
    "        self.conv1d_2 = nn.ConvTranspose1d(self.out_channel_lst[0], self.in_channel, self.kernel_size, self.stride)\n",
    "        \n",
    "        self.bn1 = nn.BatchNorm1d(self.out_channel_lst[0])\n",
    "        self.bn2 = nn.BatchNorm1d(self.in_channel)\n",
    "\n",
    "        self.after_1 = int((2000-self.kernel_size)//self.stride+1)\n",
    "        self.after_2 = int((self.after_1-self.kernel_size)//self.stride+1)\n",
    "        \n",
    "        self.fc1 = nn.Linear(self.after_2//4,self.after_2//2)\n",
    "        self.fc2 = nn.Linear(self.after_2//2,self.after_2)\n",
    "\n",
    "    def forward(self, z):\n",
    "        \n",
    "        l_1 = self.fc1(z)\n",
    "#         print('l_1',l_1.shape)\n",
    "        \n",
    "        l_2 = self.fc2(l_1)\n",
    "#         print('l_2',l_2.shape)\n",
    "        \n",
    "        l_ = l_2.view(l_1.shape[0],1,-1)\n",
    "#         print('l_',l_.shape)\n",
    "        \n",
    "        z_1 = self.bn1(self.conv1d_1(l_))\n",
    "#         print('z_1', z_1.shape)\n",
    "        \n",
    "        z_2 = self.bn2(self.conv1d_2(z_1))\n",
    "#         print('z_2', z_2.shape)\n",
    "        \n",
    "\n",
    "\n",
    "        return z_2"
   ]
  },
  {
   "cell_type": "markdown",
   "metadata": {},
   "source": [
    "### Model_"
   ]
  },
  {
   "cell_type": "code",
   "execution_count": 7,
   "metadata": {
    "ExecuteTime": {
     "end_time": "2021-07-06T06:21:29.313959Z",
     "start_time": "2021-07-06T06:21:24.716747Z"
    }
   },
   "outputs": [
    {
     "data": {
      "text/plain": [
       "UsadModel_CONV_AE(\n",
       "  (encoder): Encoder(\n",
       "    (conv1d_1): Conv1d(3, 2, kernel_size=(500,), stride=(1,))\n",
       "    (conv1d_2): Conv1d(2, 1, kernel_size=(500,), stride=(1,))\n",
       "    (bn1): BatchNorm1d(2, eps=1e-05, momentum=0.1, affine=True, track_running_stats=True)\n",
       "    (bn2): BatchNorm1d(1, eps=1e-05, momentum=0.1, affine=True, track_running_stats=True)\n",
       "    (fc1): Linear(in_features=1002, out_features=501, bias=True)\n",
       "    (fc2): Linear(in_features=501, out_features=250, bias=True)\n",
       "  )\n",
       "  (decoder): Decoder(\n",
       "    (conv1d_1): ConvTranspose1d(1, 2, kernel_size=(500,), stride=(1,))\n",
       "    (conv1d_2): ConvTranspose1d(2, 3, kernel_size=(500,), stride=(1,))\n",
       "    (bn1): BatchNorm1d(2, eps=1e-05, momentum=0.1, affine=True, track_running_stats=True)\n",
       "    (bn2): BatchNorm1d(3, eps=1e-05, momentum=0.1, affine=True, track_running_stats=True)\n",
       "    (fc1): Linear(in_features=250, out_features=501, bias=True)\n",
       "    (fc2): Linear(in_features=501, out_features=1002, bias=True)\n",
       "  )\n",
       ")"
      ]
     },
     "execution_count": 7,
     "metadata": {},
     "output_type": "execute_result"
    }
   ],
   "source": [
    "class UsadModel_CONV_AE(nn.Module):\n",
    "    def __init__(self,  in_channel, out_channel_lst, kernel_size, stride):\n",
    "        super().__init__()\n",
    "        self.in_channel = in_channel\n",
    "        self.out_channel_lst = out_channel_lst \n",
    "        self.kernel_size = kernel_size \n",
    "        self.stride = stride\n",
    "        \n",
    "        self.encoder = Encoder(self.in_channel, self.out_channel_lst, self.kernel_size, self.stride)\n",
    "        self.decoder = Decoder(self.in_channel, self.out_channel_lst, self.kernel_size, self.stride)\n",
    "        \n",
    "    def forward(self, x):\n",
    "        out_1 = self.encoder(x)        \n",
    "        \n",
    "        out_2 = self.decoder(out_1)\n",
    "        \n",
    "        mse_ = (x - out_2)**2\n",
    "        \n",
    "        return out_1, out_2, mse_\n",
    "    \n",
    "device = 'cuda'\n",
    "model_conv_ae = UsadModel_CONV_AE(3,[2,1],500,1)\n",
    "optimizer = torch.optim.Adam(list(model_conv_ae.encoder.parameters())+list(model_conv_ae.decoder.parameters()))\n",
    "model_conv_ae.to(device)"
   ]
  },
  {
   "cell_type": "markdown",
   "metadata": {},
   "source": [
    "### train_function"
   ]
  },
  {
   "cell_type": "code",
   "execution_count": 8,
   "metadata": {
    "ExecuteTime": {
     "end_time": "2021-07-06T06:21:29.321743Z",
     "start_time": "2021-07-06T06:21:29.316062Z"
    }
   },
   "outputs": [],
   "source": [
    "def train(model, train_loader, epoch, optimizer, device='cuda'):\n",
    "\n",
    "    model.train()\n",
    "\n",
    "    losses_train = []\n",
    "    for batch in train_loader:\n",
    "        out_1, out_2, mse_ = model(batch.type(torch.FloatTensor).to(device))\n",
    "        loss = torch.mean(mse_)\n",
    "        loss.backward(retain_graph=True)\n",
    "        optimizer.step()\n",
    "        optimizer.zero_grad()\n",
    "        losses_train.append(loss.item())\n",
    "\n",
    "    losses_train = np.mean(losses_train)\n",
    "\n",
    "\n",
    "    return losses_train"
   ]
  },
  {
   "cell_type": "code",
   "execution_count": 9,
   "metadata": {
    "ExecuteTime": {
     "end_time": "2021-07-06T06:21:29.987214Z",
     "start_time": "2021-07-06T06:21:29.324834Z"
    }
   },
   "outputs": [
    {
     "name": "stdout",
     "output_type": "stream",
     "text": [
      "epoch - 0  train_loss_1 - 25.54424508412679\n",
      "epoch - 1  train_loss_1 - 25.26287015279134\n",
      "epoch - 2  train_loss_1 - 23.040531158447266\n",
      "epoch - 3  train_loss_1 - 21.646508534749348\n",
      "epoch - 4  train_loss_1 - 21.36795457204183\n"
     ]
    }
   ],
   "source": [
    "epochs = 5\n",
    "for epoch in range(epochs):\n",
    "    train_loss_ = train(model_conv_ae, train_loader, epochs, optimizer)\n",
    "    print(f'epoch - {epoch}  train_loss_1 - {train_loss_}')"
   ]
  },
  {
   "cell_type": "markdown",
   "metadata": {},
   "source": [
    "### testing"
   ]
  },
  {
   "cell_type": "code",
   "execution_count": 10,
   "metadata": {
    "ExecuteTime": {
     "end_time": "2021-07-06T06:21:29.998279Z",
     "start_time": "2021-07-06T06:21:29.990924Z"
    }
   },
   "outputs": [],
   "source": [
    "def testing(model, test_loader, device = 'cuda'):\n",
    "    latent_space_ = np.empty((0, 250))\n",
    "    mse_arr = np.empty((0,3,2000))\n",
    "    model.eval()\n",
    "    with torch.no_grad():\n",
    "        for batch in test_loader:\n",
    "            out_1, out_2, mse_ = model(batch.type(torch.FloatTensor).to(device))\n",
    "\n",
    "            out_1 = out_1.cpu()\n",
    "            out_2 = out_2.cpu()\n",
    "            mse_ = mse_.cpu()\n",
    "            \n",
    "            latent_space_ = np.concatenate([latent_space_,out_1])\n",
    "            mse_arr = np.concatenate([mse_arr,mse_])\n",
    "\n",
    "        return latent_space_, mse_arr"
   ]
  },
  {
   "cell_type": "code",
   "execution_count": 11,
   "metadata": {
    "ExecuteTime": {
     "end_time": "2021-07-06T06:21:44.879973Z",
     "start_time": "2021-07-06T06:21:30.000810Z"
    }
   },
   "outputs": [],
   "source": [
    "latent_space_inf, mse_arr_inf = testing(model_conv_ae,inf_loader)\n",
    "latent_space_all , mse_arr_all = testing(model_conv_ae, train_loader)"
   ]
  },
  {
   "cell_type": "code",
   "execution_count": 12,
   "metadata": {
    "ExecuteTime": {
     "end_time": "2021-07-06T06:21:44.891158Z",
     "start_time": "2021-07-06T06:21:44.882778Z"
    }
   },
   "outputs": [
    {
     "data": {
      "text/plain": [
       "array([[[4.98795301e-01, 2.26620674e+00, 5.12942314e+00, ...,\n",
       "         2.45497391e-01, 3.08168661e-02, 1.80538312e-01],\n",
       "        [5.89665222e+00, 3.63694072e+00, 2.04244423e+00, ...,\n",
       "         1.14875298e+01, 1.12196150e+01, 8.00150776e+00],\n",
       "        [7.03942680e+00, 8.14668274e+00, 9.57326412e+00, ...,\n",
       "         5.81921148e+00, 6.83492470e+00, 7.25742531e+00]],\n",
       "\n",
       "       [[1.25406742e+01, 8.43356228e+00, 8.21776772e+00, ...,\n",
       "         2.10173283e+01, 1.43201275e+01, 1.34267588e+01],\n",
       "        [8.99823606e-02, 6.12777352e-01, 1.58180535e+00, ...,\n",
       "         8.11728001e-01, 6.74356371e-02, 9.62765455e-01],\n",
       "        [7.72648430e+00, 9.34957504e+00, 1.25290794e+01, ...,\n",
       "         1.03733482e+01, 1.22309647e+01, 1.61524372e+01]],\n",
       "\n",
       "       [[9.66150379e+00, 6.48551941e+00, 3.33202457e+00, ...,\n",
       "         1.06809301e+01, 1.12098274e+01, 9.65752316e+00],\n",
       "        [6.84705114e+00, 7.06057405e+00, 8.15483570e+00, ...,\n",
       "         3.90518880e+00, 5.83870316e+00, 6.43444633e+00],\n",
       "        [8.25187005e-03, 3.47290754e-01, 2.16241050e+00, ...,\n",
       "         8.66765738e-01, 3.27082306e-01, 1.72435958e-02]],\n",
       "\n",
       "       ...,\n",
       "\n",
       "       [[1.48857431e+01, 1.52090416e+01, 1.71519165e+01, ...,\n",
       "         1.68026960e+00, 3.15821743e+00, 4.74211884e+00],\n",
       "        [1.14869385e+01, 6.28838921e+00, 4.45115280e+00, ...,\n",
       "         1.31739101e+01, 1.26009388e+01, 1.25982161e+01],\n",
       "        [9.59115326e-02, 1.71564448e+00, 3.65107083e+00, ...,\n",
       "         5.62784195e+00, 3.43603539e+00, 1.99575078e+00]],\n",
       "\n",
       "       [[5.13581085e+00, 7.55100012e+00, 9.17736053e+00, ...,\n",
       "         2.51704812e+00, 3.79138708e+00, 5.51055288e+00],\n",
       "        [1.08743534e+01, 9.83961773e+00, 6.24079466e+00, ...,\n",
       "         1.45806389e+01, 1.45814247e+01, 1.25167999e+01],\n",
       "        [1.32195497e+00, 2.60121316e-01, 1.09757490e-01, ...,\n",
       "         5.15707445e+00, 3.80991125e+00, 1.61446905e+00]],\n",
       "\n",
       "       [[1.72281208e+01, 2.29220905e+01, 2.64733753e+01, ...,\n",
       "         7.54980135e+00, 1.59055996e+01, 2.61019268e+01],\n",
       "        [8.69688129e+00, 4.43761492e+00, 2.04942703e+00, ...,\n",
       "         3.30860672e+01, 2.14511662e+01, 1.06889057e+01],\n",
       "        [3.33589211e+01, 3.38468208e+01, 3.29083824e+01, ...,\n",
       "         4.32348061e+01, 4.76056442e+01, 4.98252602e+01]]])"
      ]
     },
     "execution_count": 12,
     "metadata": {},
     "output_type": "execute_result"
    }
   ],
   "source": [
    "mse_arr_inf"
   ]
  },
  {
   "cell_type": "markdown",
   "metadata": {},
   "source": [
    "### Clustering_by_latent_space"
   ]
  },
  {
   "cell_type": "code",
   "execution_count": 13,
   "metadata": {
    "ExecuteTime": {
     "end_time": "2021-07-06T06:21:47.575169Z",
     "start_time": "2021-07-06T06:21:44.892893Z"
    }
   },
   "outputs": [
    {
     "data": {
      "image/png": "[encoded data removed]",
      "text/plain": [
       "<Figure size 576x360 with 1 Axes>"
      ]
     },
     "metadata": {
      "needs_background": "light"
     },
     "output_type": "display_data"
    }
   ],
   "source": [
    "def change_n_clusters(n_clusters, data):\n",
    "    sum_of_squared_distance = []\n",
    "    for n_cluster in n_clusters:\n",
    "        kmeans = KMeans(n_clusters=n_cluster)\n",
    "        kmeans.fit(data)\n",
    "        sum_of_squared_distance.append(kmeans.inertia_)\n",
    "        \n",
    "    plt.figure(1 , figsize = (8, 5))\n",
    "    plt.plot(n_clusters , sum_of_squared_distance , 'o')\n",
    "    plt.plot(n_clusters , sum_of_squared_distance , '-' , alpha = 0.5)\n",
    "    plt.xlabel('Number of Clusters')\n",
    "    plt.ylabel('Inertia')\n",
    "\n",
    "change_n_clusters([2,3,4,5,6,7,8,9,10,11], latent_space_all)"
   ]
  },
  {
   "cell_type": "markdown",
   "metadata": {},
   "source": [
    "### get_dictionary_from_clustering"
   ]
  },
  {
   "cell_type": "code",
   "execution_count": 14,
   "metadata": {
    "ExecuteTime": {
     "end_time": "2021-07-06T06:22:01.308360Z",
     "start_time": "2021-07-06T06:22:01.299215Z"
    }
   },
   "outputs": [],
   "source": [
    "def get_index_label(latent_arr, n_clu):\n",
    "    k_model = KMeans(n_clusters = n_clu, n_init=25, max_iter = 600, random_state=42)\n",
    "    k_model.fit(latent_arr)\n",
    "    label_ = k_model.labels_\n",
    "    \n",
    "    dic = {}\n",
    "    for i in range(n_clu):\n",
    "        dic[i] = np.where(label_==i)[0]\n",
    "    \n",
    "    return dic"
   ]
  },
  {
   "cell_type": "code",
   "execution_count": 15,
   "metadata": {
    "ExecuteTime": {
     "end_time": "2021-07-06T06:22:02.016902Z",
     "start_time": "2021-07-06T06:22:01.618114Z"
    }
   },
   "outputs": [],
   "source": [
    "label_dict = get_index_label(latent_space_all, 6)"
   ]
  },
  {
   "cell_type": "markdown",
   "metadata": {},
   "source": [
    "### check_loss"
   ]
  },
  {
   "cell_type": "code",
   "execution_count": 17,
   "metadata": {
    "ExecuteTime": {
     "end_time": "2021-07-06T06:22:12.897459Z",
     "start_time": "2021-07-06T06:22:12.889640Z"
    }
   },
   "outputs": [],
   "source": [
    "def get_sum_arr(arr):\n",
    "    sum_arr = arr.sum(axis=2)\n",
    "    sum_arr_2 = sum_arr.sum(axis=1)\n",
    "    return sum_arr_2.reshape(-1,1)\n",
    "\n",
    "def get_mean_arr(arr):\n",
    "    mean_arr = get_sum_arr(arr)/6000\n",
    "    return mean_arr"
   ]
  },
  {
   "cell_type": "code",
   "execution_count": 18,
   "metadata": {
    "ExecuteTime": {
     "end_time": "2021-07-06T06:22:13.479481Z",
     "start_time": "2021-07-06T06:22:13.152672Z"
    }
   },
   "outputs": [],
   "source": [
    "mean_arr_inf = get_mean_arr(mse_arr_inf)\n",
    "sum_arr_inf = get_sum_arr(mse_arr_inf)\n",
    "\n",
    "mean_arr_all = get_mean_arr(mse_arr_all)\n",
    "sum_arr_all = get_sum_arr(mse_arr_all)"
   ]
  },
  {
   "cell_type": "code",
   "execution_count": 19,
   "metadata": {
    "ExecuteTime": {
     "end_time": "2021-07-06T06:22:18.885978Z",
     "start_time": "2021-07-06T06:22:18.877984Z"
    }
   },
   "outputs": [],
   "source": [
    "def get_scaling(all_arr, inf_arr):\n",
    "    scaler = MinMaxScaler()\n",
    "    scaler.fit(all_arr)\n",
    "    print(scaler.n_samples_seen_, scaler.data_min_, scaler.data_max_, scaler.feature_range)\n",
    "\n",
    "    fi = scaler.transform(inf_arr)\n",
    "    fi = np.squeeze(fi)\n",
    "    \n",
    "\n",
    "\n",
    "    return fi"
   ]
  },
  {
   "cell_type": "markdown",
   "metadata": {},
   "source": [
    "### check_loss_group_by_scatter"
   ]
  },
  {
   "cell_type": "code",
   "execution_count": 22,
   "metadata": {
    "ExecuteTime": {
     "end_time": "2021-07-06T06:23:05.356747Z",
     "start_time": "2021-07-06T06:23:05.348552Z"
    }
   },
   "outputs": [
    {
     "data": {
      "text/plain": [
       "(300, 1)"
      ]
     },
     "execution_count": 22,
     "metadata": {},
     "output_type": "execute_result"
    }
   ],
   "source": []
  },
  {
   "cell_type": "code",
   "execution_count": 25,
   "metadata": {
    "ExecuteTime": {
     "end_time": "2021-07-06T06:23:43.268579Z",
     "start_time": "2021-07-06T06:23:41.296849Z"
    },
    "scrolled": false
   },
   "outputs": [
    {
     "data": {
      "image/png": "[encoded data removed]",
      "text/plain": [
       "<Figure size 432x288 with 1 Axes>"
      ]
     },
     "metadata": {
      "needs_background": "light"
     },
     "output_type": "display_data"
    },
    {
     "data": {
      "image/png": "[encoded data removed]",
      "text/plain": [
       "<Figure size 432x288 with 1 Axes>"
      ]
     },
     "metadata": {
      "needs_background": "light"
     },
     "output_type": "display_data"
    },
    {
     "data": {
      "image/png": "[encoded data removed]",
      "text/plain": [
       "<Figure size 432x288 with 1 Axes>"
      ]
     },
     "metadata": {
      "needs_background": "light"
     },
     "output_type": "display_data"
    },
    {
     "data": {
      "image/png": "[encoded data removed]",
      "text/plain": [
       "<Figure size 432x288 with 1 Axes>"
      ]
     },
     "metadata": {
      "needs_background": "light"
     },
     "output_type": "display_data"
    },
    {
     "data": {
      "image/png": "[encoded data removed]",
      "text/plain": [
       "<Figure size 432x288 with 1 Axes>"
      ]
     },
     "metadata": {
      "needs_background": "light"
     },
     "output_type": "display_data"
    },
    {
     "data": {
      "image/png": "[encoded data removed]",
      "text/plain": [
       "<Figure size 432x288 with 1 Axes>"
      ]
     },
     "metadata": {
      "needs_background": "light"
     },
     "output_type": "display_data"
    },
    {
     "data": {
      "image/png": "[encoded data removed]",
      "text/plain": [
       "<Figure size 432x288 with 1 Axes>"
      ]
     },
     "metadata": {
      "needs_background": "light"
     },
     "output_type": "display_data"
    },
    {
     "data": {
      "image/png": "[encoded data removed]",
      "text/plain": [
       "<Figure size 432x288 with 1 Axes>"
      ]
     },
     "metadata": {
      "needs_background": "light"
     },
     "output_type": "display_data"
    },
    {
     "data": {
      "image/png": "[encoded data removed]",
      "text/plain": [
       "<Figure size 432x288 with 1 Axes>"
      ]
     },
     "metadata": {
      "needs_background": "light"
     },
     "output_type": "display_data"
    }
   ],
   "source": [
    "mean_arr_all_ = np.squeeze(mean_arr_all)\n",
    "for i in [200,100, 80, 70, 60, 30, 25, 20, 10]:\n",
    "    mean_arr_all_2 = np.where(mean_arr_all_<=i,mean_arr_all_,-1)\n",
    "    plt.plot([i for i in range(300)],mean_arr_all_2,\n",
    "         linestyle='none',\n",
    "         marker = 'o')\n",
    "    plt.title(f'max = {i}')\n",
    "    plt.show()"
   ]
  },
  {
   "cell_type": "code",
   "execution_count": null,
   "metadata": {},
   "outputs": [],
   "source": []
  }
 ],
 "metadata": {
  "kernelspec": {
   "display_name": "Python 3",
   "language": "python",
   "name": "python3"
  },
  "language_info": {
   "codemirror_mode": {
    "name": "ipython",
    "version": 3
   },
   "file_extension": ".py",
   "mimetype": "text/x-python",
   "name": "python",
   "nbconvert_exporter": "python",
   "pygments_lexer": "ipython3",
   "version": "3.8.5"
  },
  "toc": {
   "base_numbering": 1,
   "nav_menu": {},
   "number_sections": false,
   "sideBar": true,
   "skip_h1_title": false,
   "title_cell": "Table of Contents",
   "title_sidebar": "Contents",
   "toc_cell": false,
   "toc_position": {},
   "toc_section_display": true,
   "toc_window_display": false
  }
 },
 "nbformat": 4,
 "nbformat_minor": 4
}
