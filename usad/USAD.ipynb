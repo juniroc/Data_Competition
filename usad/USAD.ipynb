{
 "cells": [
  {
   "cell_type": "markdown",
   "metadata": {
    "id": "etniX_KTlJ5U"
   },
   "source": [
    "# USAD"
   ]
  },
  {
   "cell_type": "markdown",
   "metadata": {
    "id": "N3jM0qLU8MgZ"
   },
   "source": [
    "## Environment"
   ]
  },
  {
   "cell_type": "code",
   "execution_count": 26,
   "metadata": {
    "ExecuteTime": {
     "end_time": "2021-06-16T10:33:33.036558Z",
     "start_time": "2021-06-16T10:33:31.785396Z"
    },
    "id": "rjheCL2b1Rnw"
   },
   "outputs": [
    {
     "name": "stdout",
     "output_type": "stream",
     "text": [
      "rm: cannot remove 'sample_data': No such file or directory\r\n"
     ]
    }
   ],
   "source": [
    "!rm -r sample_data"
   ]
  },
  {
   "cell_type": "code",
   "execution_count": 10,
   "metadata": {
    "ExecuteTime": {
     "end_time": "2021-06-16T07:56:21.193053Z",
     "start_time": "2021-06-16T07:56:18.898147Z"
    },
    "colab": {
     "base_uri": "https://localhost:8080/",
     "height": 118
    },
    "id": "e3dDxs8LFZdT",
    "outputId": "ebff804d-1c59-4039-d869-f65907b19712"
   },
   "outputs": [
    {
     "name": "stdout",
     "output_type": "stream",
     "text": [
      "Cloning into 'usad'...\n",
      "remote: Enumerating objects: 89, done.\u001b[K\n",
      "remote: Counting objects: 100% (11/11), done.\u001b[K\n",
      "remote: Compressing objects: 100% (11/11), done.\u001b[K\n",
      "remote: Total 89 (delta 3), reused 2 (delta 0), pack-reused 78\u001b[K\n",
      "Receiving objects: 100% (89/89), 2.82 MiB | 12.34 MiB/s, done.\n",
      "Resolving deltas: 100% (41/41), done.\n"
     ]
    }
   ],
   "source": [
    "!git clone https://github.com/manigalati/usad"
   ]
  },
  {
   "cell_type": "code",
   "execution_count": 1,
   "metadata": {
    "ExecuteTime": {
     "end_time": "2021-06-16T11:35:04.124458Z",
     "start_time": "2021-06-16T11:35:04.075134Z"
    },
    "colab": {
     "base_uri": "https://localhost:8080/",
     "height": 34
    },
    "id": "te9stFZtFfZu",
    "outputId": "3ca36b3b-dd9a-413c-873f-ab730285ad51"
   },
   "outputs": [
    {
     "name": "stdout",
     "output_type": "stream",
     "text": [
      "[Errno 2] No such file or directory: 'usad'\n",
      "/workspace/Automl/AutoEncoder/usad\n"
     ]
    }
   ],
   "source": [
    "%cd usad"
   ]
  },
  {
   "cell_type": "code",
   "execution_count": 2,
   "metadata": {
    "ExecuteTime": {
     "end_time": "2021-06-16T11:35:05.850386Z",
     "start_time": "2021-06-16T11:35:04.128824Z"
    },
    "id": "6u1DGKsAlLF-"
   },
   "outputs": [],
   "source": [
    "import numpy as np\n",
    "import pandas as pd\n",
    "import matplotlib.pyplot as plt\n",
    "import seaborn as sns\n",
    "import torch\n",
    "import torch.nn as nn\n",
    "\n",
    "from utils import *\n",
    "from usad import *"
   ]
  },
  {
   "cell_type": "code",
   "execution_count": 3,
   "metadata": {
    "ExecuteTime": {
     "end_time": "2021-06-16T11:35:07.046610Z",
     "start_time": "2021-06-16T11:35:05.852653Z"
    },
    "colab": {
     "base_uri": "https://localhost:8080/",
     "height": 34
    },
    "id": "4AzWlDBI_djV",
    "outputId": "7a8d0c19-2389-461b-c0be-3427a25dda91"
   },
   "outputs": [
    {
     "name": "stdout",
     "output_type": "stream",
     "text": [
      "GPU 0: Tesla P100-PCIE-16GB (UUID: GPU-858b82ed-2996-c38a-bccd-2b928a625f8d)\r\n"
     ]
    }
   ],
   "source": [
    "!nvidia-smi -L\n",
    "\n",
    "device = get_default_device()"
   ]
  },
  {
   "cell_type": "markdown",
   "metadata": {
    "id": "1crx5rGP9ONf"
   },
   "source": [
    "## EDA - Data Pre-Processing"
   ]
  },
  {
   "cell_type": "markdown",
   "metadata": {
    "id": "vxofeE469RhT"
   },
   "source": [
    "### Download dataset"
   ]
  },
  {
   "cell_type": "markdown",
   "metadata": {
    "id": "kfSj4FYL9W8Y"
   },
   "source": [
    "### Normal period"
   ]
  },
  {
   "cell_type": "code",
   "execution_count": 4,
   "metadata": {
    "ExecuteTime": {
     "end_time": "2021-06-16T11:35:10.762257Z",
     "start_time": "2021-06-16T11:35:07.052454Z"
    },
    "colab": {
     "base_uri": "https://localhost:8080/",
     "height": 84
    },
    "id": "i95DlAZI1G_p",
    "outputId": "5b35771c-356e-4e0b-a997-682d1ea85c6a"
   },
   "outputs": [
    {
     "name": "stdout",
     "output_type": "stream",
     "text": [
      "mkdir: cannot create directory ‘input’: File exists\n",
      "zsh:1: no matches found: https://drive.google.com/open?id=1rVJ5ry5GG-ZZi5yI4x9lICB8VhErXwCw\n",
      "zsh:1: no matches found: https://drive.google.com/open?id=1iDYc0OEmidN712fquOBRFjln90SbpaE7\n"
     ]
    }
   ],
   "source": [
    "!mkdir input\n",
    "#normal period\n",
    "!python gdrivedl.py https://drive.google.com/open?id=1rVJ5ry5GG-ZZi5yI4x9lICB8VhErXwCw input/\n",
    "#anomalies\n",
    "!python gdrivedl.py https://drive.google.com/open?id=1iDYc0OEmidN712fquOBRFjln90SbpaE7 input/"
   ]
  },
  {
   "cell_type": "code",
   "execution_count": 5,
   "metadata": {
    "ExecuteTime": {
     "end_time": "2021-06-16T11:35:19.356205Z",
     "start_time": "2021-06-16T11:35:10.765189Z"
    },
    "colab": {
     "base_uri": "https://localhost:8080/",
     "height": 87
    },
    "id": "XeDLxV_r1G9n",
    "outputId": "576538dd-64f2-46fa-8e6f-6c2ffdebad15"
   },
   "outputs": [
    {
     "name": "stderr",
     "output_type": "stream",
     "text": [
      "/opt/conda/lib/python3.8/site-packages/IPython/core/interactiveshell.py:3146: DtypeWarning: Columns (26) have mixed types.Specify dtype option on import or set low_memory=False.\n",
      "  has_raised = await self.run_ast_nodes(code_ast.body, cell_name,\n"
     ]
    },
    {
     "data": {
      "text/plain": [
       "(495000, 51)"
      ]
     },
     "execution_count": 5,
     "metadata": {},
     "output_type": "execute_result"
    }
   ],
   "source": [
    "#Read data\n",
    "normal = pd.read_csv(\"input/SWaT_Dataset_Normal_v1.csv\")#, nrows=1000)\n",
    "normal = normal.drop([\"Timestamp\" , \"Normal/Attack\" ] , axis = 1)\n",
    "normal.shape"
   ]
  },
  {
   "cell_type": "code",
   "execution_count": 6,
   "metadata": {
    "ExecuteTime": {
     "end_time": "2021-06-16T11:35:58.461611Z",
     "start_time": "2021-06-16T11:35:19.359282Z"
    },
    "id": "fFuLm1GH1G2n"
   },
   "outputs": [],
   "source": [
    "# Transform all columns into float64\n",
    "for i in list(normal): \n",
    "    normal[i]=normal[i].apply(lambda x: str(x).replace(\",\" , \".\"))\n",
    "normal = normal.astype(float)"
   ]
  },
  {
   "cell_type": "markdown",
   "metadata": {
    "id": "zxFNH5kU9hIE"
   },
   "source": [
    "#### Normalization"
   ]
  },
  {
   "cell_type": "code",
   "execution_count": 7,
   "metadata": {
    "ExecuteTime": {
     "end_time": "2021-06-16T11:35:59.508980Z",
     "start_time": "2021-06-16T11:35:58.465286Z"
    },
    "id": "Mfxj4Uxn9kv4"
   },
   "outputs": [],
   "source": [
    "from sklearn import preprocessing\n",
    "min_max_scaler = preprocessing.MinMaxScaler()\n",
    "\n",
    "x = normal.values\n",
    "x_scaled = min_max_scaler.fit_transform(x)\n",
    "normal = pd.DataFrame(x_scaled)"
   ]
  },
  {
   "cell_type": "code",
   "execution_count": 8,
   "metadata": {
    "ExecuteTime": {
     "end_time": "2021-06-16T11:35:59.570660Z",
     "start_time": "2021-06-16T11:35:59.511266Z"
    },
    "colab": {
     "base_uri": "https://localhost:8080/",
     "height": 126
    },
    "id": "mQ6_U4jn9nlw",
    "outputId": "f1cc1bd6-f1cc-4764-b1cc-2fd989ac4918"
   },
   "outputs": [
    {
     "data": {
      "text/html": [
       "<div>\n",
       "<style scoped>\n",
       "    .dataframe tbody tr th:only-of-type {\n",
       "        vertical-align: middle;\n",
       "    }\n",
       "\n",
       "    .dataframe tbody tr th {\n",
       "        vertical-align: top;\n",
       "    }\n",
       "\n",
       "    .dataframe thead th {\n",
       "        text-align: right;\n",
       "    }\n",
       "</style>\n",
       "<table border=\"1\" class=\"dataframe\">\n",
       "  <thead>\n",
       "    <tr style=\"text-align: right;\">\n",
       "      <th></th>\n",
       "      <th>0</th>\n",
       "      <th>1</th>\n",
       "      <th>2</th>\n",
       "      <th>3</th>\n",
       "      <th>4</th>\n",
       "      <th>5</th>\n",
       "      <th>6</th>\n",
       "      <th>7</th>\n",
       "      <th>8</th>\n",
       "      <th>9</th>\n",
       "      <th>...</th>\n",
       "      <th>41</th>\n",
       "      <th>42</th>\n",
       "      <th>43</th>\n",
       "      <th>44</th>\n",
       "      <th>45</th>\n",
       "      <th>46</th>\n",
       "      <th>47</th>\n",
       "      <th>48</th>\n",
       "      <th>49</th>\n",
       "      <th>50</th>\n",
       "    </tr>\n",
       "  </thead>\n",
       "  <tbody>\n",
       "    <tr>\n",
       "      <th>0</th>\n",
       "      <td>0.0</td>\n",
       "      <td>0.005294</td>\n",
       "      <td>0.5</td>\n",
       "      <td>0.0</td>\n",
       "      <td>0.0</td>\n",
       "      <td>0.012291</td>\n",
       "      <td>0.075099</td>\n",
       "      <td>0.002009</td>\n",
       "      <td>0.0</td>\n",
       "      <td>0.5</td>\n",
       "      <td>...</td>\n",
       "      <td>0.0</td>\n",
       "      <td>0.0</td>\n",
       "      <td>0.0</td>\n",
       "      <td>0.000814</td>\n",
       "      <td>0.0</td>\n",
       "      <td>0.001217</td>\n",
       "      <td>0.000147</td>\n",
       "      <td>0.0</td>\n",
       "      <td>0.0</td>\n",
       "      <td>0.0</td>\n",
       "    </tr>\n",
       "    <tr>\n",
       "      <th>1</th>\n",
       "      <td>0.0</td>\n",
       "      <td>0.005407</td>\n",
       "      <td>0.5</td>\n",
       "      <td>0.0</td>\n",
       "      <td>0.0</td>\n",
       "      <td>0.012291</td>\n",
       "      <td>0.075099</td>\n",
       "      <td>0.002009</td>\n",
       "      <td>0.0</td>\n",
       "      <td>0.5</td>\n",
       "      <td>...</td>\n",
       "      <td>0.0</td>\n",
       "      <td>0.0</td>\n",
       "      <td>0.0</td>\n",
       "      <td>0.000814</td>\n",
       "      <td>0.0</td>\n",
       "      <td>0.001217</td>\n",
       "      <td>0.000147</td>\n",
       "      <td>0.0</td>\n",
       "      <td>0.0</td>\n",
       "      <td>0.0</td>\n",
       "    </tr>\n",
       "  </tbody>\n",
       "</table>\n",
       "<p>2 rows × 51 columns</p>\n",
       "</div>"
      ],
      "text/plain": [
       "    0         1    2    3    4         5         6         7    8    9   ...  \\\n",
       "0  0.0  0.005294  0.5  0.0  0.0  0.012291  0.075099  0.002009  0.0  0.5  ...   \n",
       "1  0.0  0.005407  0.5  0.0  0.0  0.012291  0.075099  0.002009  0.0  0.5  ...   \n",
       "\n",
       "    41   42   43        44   45        46        47   48   49   50  \n",
       "0  0.0  0.0  0.0  0.000814  0.0  0.001217  0.000147  0.0  0.0  0.0  \n",
       "1  0.0  0.0  0.0  0.000814  0.0  0.001217  0.000147  0.0  0.0  0.0  \n",
       "\n",
       "[2 rows x 51 columns]"
      ]
     },
     "execution_count": 8,
     "metadata": {},
     "output_type": "execute_result"
    }
   ],
   "source": [
    "normal.head(2)"
   ]
  },
  {
   "cell_type": "markdown",
   "metadata": {
    "id": "xXJi503b-j_d"
   },
   "source": [
    "### Windows"
   ]
  },
  {
   "cell_type": "markdown",
   "metadata": {
    "id": "_i71RFAi9spa"
   },
   "source": [
    "### Attack"
   ]
  },
  {
   "cell_type": "code",
   "execution_count": 9,
   "metadata": {
    "ExecuteTime": {
     "end_time": "2021-06-16T11:36:06.665499Z",
     "start_time": "2021-06-16T11:35:59.573353Z"
    },
    "colab": {
     "base_uri": "https://localhost:8080/",
     "height": 87
    },
    "id": "aN_TFp5x9uTE",
    "outputId": "38d7993d-c9a3-461d-c430-ebde697afbc6"
   },
   "outputs": [
    {
     "name": "stderr",
     "output_type": "stream",
     "text": [
      "/opt/conda/lib/python3.8/site-packages/IPython/core/interactiveshell.py:3146: DtypeWarning: Columns (1,9,28,46) have mixed types.Specify dtype option on import or set low_memory=False.\n",
      "  has_raised = await self.run_ast_nodes(code_ast.body, cell_name,\n"
     ]
    },
    {
     "data": {
      "text/plain": [
       "(449919, 51)"
      ]
     },
     "execution_count": 9,
     "metadata": {},
     "output_type": "execute_result"
    }
   ],
   "source": [
    "#Read data\n",
    "attack = pd.read_csv(\"input/SWaT_Dataset_Attack_v0.csv\",sep=\";\")#, nrows=1000)\n",
    "attack = attack.drop([\"Timestamp\" , \"Normal/Attack\" ] , axis = 1)\n",
    "attack.shape"
   ]
  },
  {
   "cell_type": "code",
   "execution_count": 10,
   "metadata": {
    "ExecuteTime": {
     "end_time": "2021-06-16T11:36:41.302247Z",
     "start_time": "2021-06-16T11:36:06.668300Z"
    },
    "id": "qLCInT-I9_-D"
   },
   "outputs": [],
   "source": [
    "# Transform all columns into float64\n",
    "for i in list(attack):\n",
    "    attack[i]=attack[i].apply(lambda x: str(x).replace(\",\" , \".\"))\n",
    "attack = attack.astype(float)"
   ]
  },
  {
   "cell_type": "markdown",
   "metadata": {
    "id": "c4cB4v3N-Dhu"
   },
   "source": [
    "#### Normalization"
   ]
  },
  {
   "cell_type": "code",
   "execution_count": 11,
   "metadata": {
    "ExecuteTime": {
     "end_time": "2021-06-16T11:36:42.147479Z",
     "start_time": "2021-06-16T11:36:41.305074Z"
    },
    "id": "jZrha9cO-BGK"
   },
   "outputs": [],
   "source": [
    "from sklearn import preprocessing\n",
    "\n",
    "x = attack.values \n",
    "x_scaled = min_max_scaler.transform(x)\n",
    "attack = pd.DataFrame(x_scaled)"
   ]
  },
  {
   "cell_type": "code",
   "execution_count": 12,
   "metadata": {
    "ExecuteTime": {
     "end_time": "2021-06-16T11:36:42.198204Z",
     "start_time": "2021-06-16T11:36:42.149900Z"
    },
    "colab": {
     "base_uri": "https://localhost:8080/",
     "height": 126
    },
    "id": "z9SwiPco-BUa",
    "outputId": "f2507282-c0f9-4253-ece7-0a802b68240f"
   },
   "outputs": [
    {
     "data": {
      "text/html": [
       "<div>\n",
       "<style scoped>\n",
       "    .dataframe tbody tr th:only-of-type {\n",
       "        vertical-align: middle;\n",
       "    }\n",
       "\n",
       "    .dataframe tbody tr th {\n",
       "        vertical-align: top;\n",
       "    }\n",
       "\n",
       "    .dataframe thead th {\n",
       "        text-align: right;\n",
       "    }\n",
       "</style>\n",
       "<table border=\"1\" class=\"dataframe\">\n",
       "  <thead>\n",
       "    <tr style=\"text-align: right;\">\n",
       "      <th></th>\n",
       "      <th>0</th>\n",
       "      <th>1</th>\n",
       "      <th>2</th>\n",
       "      <th>3</th>\n",
       "      <th>4</th>\n",
       "      <th>5</th>\n",
       "      <th>6</th>\n",
       "      <th>7</th>\n",
       "      <th>8</th>\n",
       "      <th>9</th>\n",
       "      <th>...</th>\n",
       "      <th>41</th>\n",
       "      <th>42</th>\n",
       "      <th>43</th>\n",
       "      <th>44</th>\n",
       "      <th>45</th>\n",
       "      <th>46</th>\n",
       "      <th>47</th>\n",
       "      <th>48</th>\n",
       "      <th>49</th>\n",
       "      <th>50</th>\n",
       "    </tr>\n",
       "  </thead>\n",
       "  <tbody>\n",
       "    <tr>\n",
       "      <th>0</th>\n",
       "      <td>0.884144</td>\n",
       "      <td>0.577133</td>\n",
       "      <td>1.0</td>\n",
       "      <td>1.0</td>\n",
       "      <td>0.0</td>\n",
       "      <td>0.496158</td>\n",
       "      <td>0.188845</td>\n",
       "      <td>0.064088</td>\n",
       "      <td>0.982899</td>\n",
       "      <td>1.0</td>\n",
       "      <td>...</td>\n",
       "      <td>0.970903</td>\n",
       "      <td>1.0</td>\n",
       "      <td>0.0</td>\n",
       "      <td>0.946125</td>\n",
       "      <td>0.449782</td>\n",
       "      <td>0.944116</td>\n",
       "      <td>0.000073</td>\n",
       "      <td>0.0</td>\n",
       "      <td>0.0</td>\n",
       "      <td>0.0</td>\n",
       "    </tr>\n",
       "    <tr>\n",
       "      <th>1</th>\n",
       "      <td>0.891145</td>\n",
       "      <td>0.577190</td>\n",
       "      <td>1.0</td>\n",
       "      <td>1.0</td>\n",
       "      <td>0.0</td>\n",
       "      <td>0.496158</td>\n",
       "      <td>0.188845</td>\n",
       "      <td>0.064088</td>\n",
       "      <td>0.982899</td>\n",
       "      <td>1.0</td>\n",
       "      <td>...</td>\n",
       "      <td>0.970903</td>\n",
       "      <td>1.0</td>\n",
       "      <td>0.0</td>\n",
       "      <td>0.946125</td>\n",
       "      <td>0.449782</td>\n",
       "      <td>0.944521</td>\n",
       "      <td>0.000073</td>\n",
       "      <td>0.0</td>\n",
       "      <td>0.0</td>\n",
       "      <td>0.0</td>\n",
       "    </tr>\n",
       "  </tbody>\n",
       "</table>\n",
       "<p>2 rows × 51 columns</p>\n",
       "</div>"
      ],
      "text/plain": [
       "         0         1    2    3    4         5         6         7         8   \\\n",
       "0  0.884144  0.577133  1.0  1.0  0.0  0.496158  0.188845  0.064088  0.982899   \n",
       "1  0.891145  0.577190  1.0  1.0  0.0  0.496158  0.188845  0.064088  0.982899   \n",
       "\n",
       "    9   ...        41   42   43        44        45        46        47   48  \\\n",
       "0  1.0  ...  0.970903  1.0  0.0  0.946125  0.449782  0.944116  0.000073  0.0   \n",
       "1  1.0  ...  0.970903  1.0  0.0  0.946125  0.449782  0.944521  0.000073  0.0   \n",
       "\n",
       "    49   50  \n",
       "0  0.0  0.0  \n",
       "1  0.0  0.0  \n",
       "\n",
       "[2 rows x 51 columns]"
      ]
     },
     "execution_count": 12,
     "metadata": {},
     "output_type": "execute_result"
    }
   ],
   "source": [
    "attack.head(2)"
   ]
  },
  {
   "cell_type": "code",
   "execution_count": 13,
   "metadata": {
    "ExecuteTime": {
     "end_time": "2021-06-16T11:36:42.214202Z",
     "start_time": "2021-06-16T11:36:42.211282Z"
    },
    "id": "vyplttZa-BRN"
   },
   "outputs": [],
   "source": [
    "window_size=12"
   ]
  },
  {
   "cell_type": "code",
   "execution_count": 14,
   "metadata": {
    "ExecuteTime": {
     "end_time": "2021-06-16T11:36:45.083426Z",
     "start_time": "2021-06-16T11:36:42.217469Z"
    },
    "colab": {
     "base_uri": "https://localhost:8080/",
     "height": 34
    },
    "id": "dzGJMp6Y-BN5",
    "outputId": "2949d278-1313-442c-f06b-275a8c6c6578"
   },
   "outputs": [
    {
     "data": {
      "text/plain": [
       "(494988, 12, 51)"
      ]
     },
     "execution_count": 14,
     "metadata": {},
     "output_type": "execute_result"
    }
   ],
   "source": [
    "windows_normal=normal.values[np.arange(window_size)[None, :] + np.arange(normal.shape[0]-window_size)[:, None]]\n",
    "windows_normal.shape"
   ]
  },
  {
   "cell_type": "code",
   "execution_count": 15,
   "metadata": {
    "ExecuteTime": {
     "end_time": "2021-06-16T11:36:47.605088Z",
     "start_time": "2021-06-16T11:36:45.085733Z"
    },
    "colab": {
     "base_uri": "https://localhost:8080/",
     "height": 34
    },
    "id": "17LdB3c8-pRH",
    "outputId": "721059d4-5937-4dd3-d73c-e5d255fc273c"
   },
   "outputs": [
    {
     "data": {
      "text/plain": [
       "(449907, 12, 51)"
      ]
     },
     "execution_count": 15,
     "metadata": {},
     "output_type": "execute_result"
    }
   ],
   "source": [
    "windows_attack=attack.values[np.arange(window_size)[None, :] + np.arange(attack.shape[0]-window_size)[:, None]]\n",
    "windows_attack.shape"
   ]
  },
  {
   "cell_type": "markdown",
   "metadata": {
    "id": "k70ZFxGs-_7m"
   },
   "source": [
    "## Training"
   ]
  },
  {
   "cell_type": "code",
   "execution_count": 16,
   "metadata": {
    "ExecuteTime": {
     "end_time": "2021-06-16T11:36:59.746527Z",
     "start_time": "2021-06-16T11:36:47.608109Z"
    },
    "id": "yi9S0SGnDKNc"
   },
   "outputs": [],
   "source": [
    "import torch.utils.data as data_utils\n",
    "\n",
    "BATCH_SIZE =  7919\n",
    "N_EPOCHS = 10\n",
    "hidden_size = 10\n",
    "\n",
    "w_size=windows_normal.shape[1]*windows_normal.shape[2]\n",
    "z_size=windows_normal.shape[1]*hidden_size\n",
    "\n",
    "windows_normal_train = windows_normal[:int(np.floor(.8 * .5 * windows_normal.shape[0]))]\n",
    "windows_normal_val = windows_normal[int(np.floor(.8 *.5 * windows_normal.shape[0])):]\n",
    "windows_normal_test = windows_normal[int(np.floor(.5 * windows_normal.shape[0])):]\n",
    "\n",
    "train_loader = torch.utils.data.DataLoader(data_utils.TensorDataset(\n",
    "    torch.from_numpy(windows_normal_train).float().view(([windows_normal_train.shape[0],w_size]))\n",
    ") , batch_size=BATCH_SIZE, shuffle=False, num_workers=0)\n",
    "\n",
    "val_loader = torch.utils.data.DataLoader(data_utils.TensorDataset(\n",
    "    torch.from_numpy(windows_normal_val).float().view(([windows_normal_val.shape[0],w_size]))\n",
    ") , batch_size=BATCH_SIZE, shuffle=False, num_workers=0)\n",
    "\n",
    "test_loader = torch.utils.data.DataLoader(data_utils.TensorDataset(\n",
    "    torch.from_numpy(np.concatenate([windows_normal_test,windows_attack])).float().view(([windows_normal_test.shape[0]+windows_attack.shape[0],w_size]))\n",
    ") , batch_size=BATCH_SIZE, shuffle=False, num_workers=0)\n",
    "\n",
    "model = UsadModel(w_size, z_size)\n",
    "model = to_device(model,device)"
   ]
  },
  {
   "cell_type": "code",
   "execution_count": 28,
   "metadata": {
    "ExecuteTime": {
     "end_time": "2021-06-16T11:44:50.745389Z",
     "start_time": "2021-06-16T11:44:50.741765Z"
    }
   },
   "outputs": [],
   "source": [
    "N_EPOCHS = 50"
   ]
  },
  {
   "cell_type": "code",
   "execution_count": 29,
   "metadata": {
    "ExecuteTime": {
     "end_time": "2021-06-16T11:53:43.184076Z",
     "start_time": "2021-06-16T11:44:51.114916Z"
    },
    "colab": {
     "base_uri": "https://localhost:8080/",
     "height": 1000
    },
    "id": "So9yjDPEDObC",
    "outputId": "629bcd13-37b1-4907-ef0d-46d9e3ad5398",
    "scrolled": true
   },
   "outputs": [
    {
     "name": "stdout",
     "output_type": "stream",
     "text": [
      "loss1 0.10155744850635529\n",
      "loss1 0.038891054689884186\n",
      "loss1 0.042803604155778885\n",
      "loss1 0.03838491439819336\n",
      "loss1 0.03257167711853981\n",
      "loss1 0.03621838241815567\n",
      "loss1 0.03591408580541611\n",
      "loss1 0.033909086138010025\n",
      "loss1 0.034029070287942886\n",
      "loss1 0.039547864347696304\n",
      "loss1 0.04990182816982269\n",
      "loss1 0.04941960796713829\n",
      "loss1 0.04800737649202347\n",
      "loss1 0.0464165173470974\n",
      "loss1 0.04459172487258911\n",
      "loss1 0.04037521034479141\n",
      "loss1 0.03681739419698715\n",
      "loss1 0.03393245115876198\n",
      "loss1 0.032940421253442764\n",
      "loss1 0.034930139780044556\n",
      "loss1 0.03716949373483658\n",
      "loss1 0.037030450999736786\n",
      "loss1 0.0328327901661396\n",
      "loss1 0.030076080933213234\n",
      "loss1 0.028953347355127335\n",
      "loss1 0.020991159602999687\n",
      "Epoch [0], val_loss1: 0.0282, val_loss2: 0.0289\n",
      "loss1 0.09863145649433136\n",
      "loss1 0.03578846901655197\n",
      "loss1 0.038604896515607834\n",
      "loss1 0.03860612213611603\n",
      "loss1 0.039439842104911804\n",
      "loss1 0.04070185124874115\n",
      "loss1 0.03904329612851143\n",
      "loss1 0.03651787340641022\n",
      "loss1 0.03042973205447197\n",
      "loss1 0.021123148500919342\n",
      "loss1 0.02261487767100334\n",
      "loss1 0.024244390428066254\n",
      "loss1 0.0247129425406456\n",
      "loss1 0.02317109704017639\n",
      "loss1 0.022926442325115204\n",
      "loss1 0.02041587606072426\n",
      "loss1 0.01837720349431038\n",
      "loss1 0.016705617308616638\n",
      "loss1 0.0165241826325655\n",
      "loss1 0.01865043118596077\n",
      "loss1 0.020721962675452232\n",
      "loss1 0.02169758826494217\n",
      "loss1 0.019502324983477592\n",
      "loss1 0.018141858279705048\n",
      "loss1 0.01783805340528488\n",
      "loss1 0.007625319063663483\n",
      "Epoch [1], val_loss1: 0.0190, val_loss2: -0.0002\n",
      "loss1 0.10888701677322388\n",
      "loss1 0.0412130206823349\n",
      "loss1 0.03866162523627281\n",
      "loss1 0.03510783985257149\n",
      "loss1 0.035579778254032135\n",
      "loss1 0.03416357934474945\n",
      "loss1 0.03466681018471718\n",
      "loss1 0.03673269599676132\n",
      "loss1 0.03356320038437843\n",
      "loss1 0.02714318037033081\n",
      "loss1 0.026625942438840866\n",
      "loss1 0.02887919545173645\n",
      "loss1 0.026565290987491608\n",
      "loss1 0.0227726511657238\n",
      "loss1 0.0216481015086174\n",
      "loss1 0.01879996433854103\n",
      "loss1 0.01675250753760338\n",
      "loss1 0.015161557123064995\n",
      "loss1 0.014305159449577332\n",
      "loss1 0.015684843063354492\n",
      "loss1 0.017353605479002\n",
      "loss1 0.01834728568792343\n",
      "loss1 0.016746973618865013\n",
      "loss1 0.01597568206489086\n",
      "loss1 0.01610754430294037\n",
      "loss1 0.006375330500304699\n",
      "Epoch [2], val_loss1: 0.0178, val_loss2: -0.0063\n",
      "loss1 0.12697435915470123\n",
      "loss1 0.04837474599480629\n",
      "loss1 0.048054832965135574\n",
      "loss1 0.04524041712284088\n",
      "loss1 0.04659274220466614\n",
      "loss1 0.04279925301671028\n",
      "loss1 0.03989305719733238\n",
      "loss1 0.03841601684689522\n",
      "loss1 0.03116043657064438\n",
      "loss1 0.024234957993030548\n",
      "loss1 0.023459438234567642\n",
      "loss1 0.028617218136787415\n",
      "loss1 0.03128199279308319\n",
      "loss1 0.030882887542247772\n",
      "loss1 0.02999916858971119\n",
      "loss1 0.026050426065921783\n",
      "loss1 0.021854769438505173\n",
      "loss1 0.0178159661591053\n",
      "loss1 0.015196071937680244\n",
      "loss1 0.015519416891038418\n",
      "loss1 0.01629308983683586\n",
      "loss1 0.017097175121307373\n",
      "loss1 0.01650395803153515\n",
      "loss1 0.016827141866087914\n",
      "loss1 0.017186278477311134\n",
      "loss1 0.006505471654236317\n",
      "Epoch [3], val_loss1: 0.0181, val_loss2: -0.0101\n",
      "loss1 0.10928362607955933\n",
      "loss1 0.044713471084833145\n",
      "loss1 0.03970145061612129\n",
      "loss1 0.03488563746213913\n",
      "loss1 0.03490710258483887\n",
      "loss1 0.03196282684803009\n",
      "loss1 0.030934259295463562\n",
      "loss1 0.03271401673555374\n",
      "loss1 0.02887311950325966\n",
      "loss1 0.023446395993232727\n",
      "loss1 0.020954523235559464\n",
      "loss1 0.023553114384412766\n",
      "loss1 0.024252526462078094\n",
      "loss1 0.02059091068804264\n",
      "loss1 0.020094290375709534\n",
      "loss1 0.02027265354990959\n",
      "loss1 0.022599518299102783\n",
      "loss1 0.02254895120859146\n",
      "loss1 0.02121458575129509\n",
      "loss1 0.02257661521434784\n",
      "loss1 0.0188458114862442\n",
      "loss1 0.015531949698925018\n",
      "loss1 0.013961734250187874\n",
      "loss1 0.015547653660178185\n",
      "loss1 0.018199235200881958\n",
      "loss1 0.006322422064840794\n",
      "Epoch [4], val_loss1: 0.0236, val_loss2: -0.0162\n",
      "loss1 0.10285995155572891\n",
      "loss1 0.04497051611542702\n",
      "loss1 0.0431143119931221\n",
      "loss1 0.040488868951797485\n",
      "loss1 0.039505910128355026\n",
      "loss1 0.03682912886142731\n",
      "loss1 0.03430597111582756\n",
      "loss1 0.0322682149708271\n",
      "loss1 0.026744451373815536\n",
      "loss1 0.019895441830158234\n",
      "loss1 0.01789245195686817\n",
      "loss1 0.01809270679950714\n",
      "loss1 0.018362730741500854\n",
      "loss1 0.018237128853797913\n",
      "loss1 0.019691064953804016\n",
      "loss1 0.019396202638745308\n",
      "loss1 0.019617240875959396\n",
      "loss1 0.01995965652167797\n",
      "loss1 0.019704224541783333\n",
      "loss1 0.02271430380642414\n",
      "loss1 0.024198975414037704\n",
      "loss1 0.017735932022333145\n",
      "loss1 0.013521954417228699\n",
      "loss1 0.012161299586296082\n",
      "loss1 0.012242677621543407\n",
      "loss1 0.006789475679397583\n",
      "Epoch [5], val_loss1: 0.0151, val_loss2: -0.0101\n",
      "loss1 0.09963534027338028\n",
      "loss1 0.042603638023138046\n",
      "loss1 0.0414617620408535\n",
      "loss1 0.03701328858733177\n",
      "loss1 0.042522184550762177\n",
      "loss1 0.03794561326503754\n",
      "loss1 0.03716244548559189\n",
      "loss1 0.03791284188628197\n",
      "loss1 0.031218990683555603\n",
      "loss1 0.022220853716135025\n",
      "loss1 0.018606383353471756\n",
      "loss1 0.019728660583496094\n",
      "loss1 0.016325948759913445\n",
      "loss1 0.015019734390079975\n",
      "loss1 0.0158650204539299\n",
      "loss1 0.014821981079876423\n",
      "loss1 0.014653942547738552\n",
      "loss1 0.015715645626187325\n",
      "loss1 0.01677521876990795\n",
      "loss1 0.019884319975972176\n",
      "loss1 0.025193557143211365\n",
      "loss1 0.025166455656290054\n",
      "loss1 0.01609492115676403\n",
      "loss1 0.013973337598145008\n",
      "loss1 0.013430707156658173\n",
      "loss1 0.00930400937795639\n",
      "Epoch [6], val_loss1: 0.0160, val_loss2: -0.0115\n",
      "loss1 0.08256280422210693\n",
      "loss1 0.03721334785223007\n",
      "loss1 0.03549305349588394\n",
      "loss1 0.03160640597343445\n",
      "loss1 0.03910662233829498\n",
      "loss1 0.03577687591314316\n",
      "loss1 0.03645114228129387\n",
      "loss1 0.0385737307369709\n",
      "loss1 0.03255274519324303\n",
      "loss1 0.023206371814012527\n",
      "loss1 0.01852995529770851\n",
      "loss1 0.022266793996095657\n",
      "loss1 0.015805955976247787\n",
      "loss1 0.013556570746004581\n",
      "loss1 0.013843430206179619\n",
      "loss1 0.01187916100025177\n",
      "loss1 0.010469327680766582\n",
      "loss1 0.010545725002884865\n",
      "loss1 0.010980231687426567\n",
      "loss1 0.012992370873689651\n",
      "loss1 0.015037856996059418\n",
      "loss1 0.016046540811657906\n",
      "loss1 0.014178872108459473\n",
      "loss1 0.013311355374753475\n",
      "loss1 0.013338071294128895\n",
      "loss1 0.009922029450535774\n",
      "Epoch [7], val_loss1: 0.0162, val_loss2: -0.0123\n",
      "loss1 0.0628865510225296\n",
      "loss1 0.03797876089811325\n",
      "loss1 0.03377493843436241\n",
      "loss1 0.02783806249499321\n",
      "loss1 0.03369108960032463\n",
      "loss1 0.029562262818217278\n",
      "loss1 0.030263910070061684\n",
      "loss1 0.03215981647372246\n",
      "loss1 0.029319703578948975\n",
      "loss1 0.020696990191936493\n",
      "loss1 0.01317485049366951\n",
      "loss1 0.014483255334198475\n",
      "loss1 0.014919023960828781\n",
      "loss1 0.013315939344465733\n",
      "loss1 0.013751723803579807\n",
      "loss1 0.011819315142929554\n",
      "loss1 0.010372206568717957\n",
      "loss1 0.010487344115972519\n",
      "loss1 0.011036655865609646\n",
      "loss1 0.013101516291499138\n",
      "loss1 0.015295128338038921\n",
      "loss1 0.01640615053474903\n",
      "loss1 0.014337047934532166\n",
      "loss1 0.013377486728131771\n",
      "loss1 0.01347078662365675\n",
      "loss1 0.00900251790881157\n",
      "Epoch [8], val_loss1: 0.0166, val_loss2: -0.0130\n",
      "loss1 0.09153764694929123\n",
      "loss1 0.03237924724817276\n",
      "loss1 0.030967500060796738\n",
      "loss1 0.02620898373425007\n",
      "loss1 0.03164411336183548\n",
      "loss1 0.027329621836543083\n",
      "loss1 0.027505788952112198\n",
      "loss1 0.028912339359521866\n",
      "loss1 0.02663727104663849\n",
      "loss1 0.019115064293146133\n",
      "loss1 0.012784929946064949\n",
      "loss1 0.014268632046878338\n",
      "loss1 0.014954308979213238\n",
      "loss1 0.013613692484796047\n",
      "loss1 0.013925174251198769\n",
      "loss1 0.011811724863946438\n",
      "loss1 0.010239231400191784\n",
      "loss1 0.010046538896858692\n",
      "loss1 0.010290132835507393\n",
      "loss1 0.012034453451633453\n",
      "loss1 0.013887443579733372\n",
      "loss1 0.014866930432617664\n",
      "loss1 0.013069265522062778\n",
      "loss1 0.012211653403937817\n",
      "loss1 0.012283522635698318\n",
      "loss1 0.0075853667221963406\n",
      "Epoch [9], val_loss1: 0.0153, val_loss2: -0.0123\n",
      "loss1 0.05150393024086952\n",
      "loss1 0.03005632944405079\n",
      "loss1 0.027878107503056526\n",
      "loss1 0.024304039776325226\n",
      "loss1 0.028938129544258118\n",
      "loss1 0.024492807686328888\n",
      "loss1 0.024552825838327408\n",
      "loss1 0.02545342966914177\n",
      "loss1 0.024638516828417778\n",
      "loss1 0.020244088023900986\n",
      "loss1 0.012678836472332478\n",
      "loss1 0.014226561412215233\n",
      "loss1 0.014812313951551914\n",
      "loss1 0.013309163972735405\n",
      "loss1 0.013685843907296658\n",
      "loss1 0.011550681665539742\n",
      "loss1 0.009920037351548672\n",
      "loss1 0.00979660451412201\n",
      "loss1 0.010020175948739052\n",
      "loss1 0.011760691180825233\n",
      "loss1 0.013697683811187744\n",
      "loss1 0.014798215590417385\n",
      "loss1 0.012943511828780174\n",
      "loss1 0.012111653573811054\n",
      "loss1 0.012249416671693325\n",
      "loss1 0.007432080339640379\n",
      "Epoch [10], val_loss1: 0.0153, val_loss2: -0.0125\n",
      "loss1 0.07671181857585907\n",
      "loss1 0.03110179677605629\n",
      "loss1 0.026937980204820633\n"
     ]
    },
    {
     "name": "stdout",
     "output_type": "stream",
     "text": [
      "loss1 0.026763005182147026\n",
      "loss1 0.03392958268523216\n",
      "loss1 0.02980685792863369\n",
      "loss1 0.028959505259990692\n",
      "loss1 0.02801400050520897\n",
      "loss1 0.024494318291544914\n",
      "loss1 0.019561631605029106\n",
      "loss1 0.012084519490599632\n",
      "loss1 0.013813325203955173\n",
      "loss1 0.01478137169033289\n",
      "loss1 0.013879288919270039\n",
      "loss1 0.01487553771585226\n",
      "loss1 0.013592171482741833\n",
      "loss1 0.012706732377409935\n",
      "loss1 0.01307093258947134\n",
      "loss1 0.013360325247049332\n",
      "loss1 0.01474273856729269\n",
      "loss1 0.01531890593469143\n",
      "loss1 0.015101781114935875\n",
      "loss1 0.012758503668010235\n",
      "loss1 0.011724219657480717\n",
      "loss1 0.011806309223175049\n",
      "loss1 0.007114196661859751\n",
      "Epoch [11], val_loss1: 0.0146, val_loss2: -0.0122\n",
      "loss1 0.04766814410686493\n",
      "loss1 0.026834746822714806\n",
      "loss1 0.025546366348862648\n",
      "loss1 0.02257153019309044\n",
      "loss1 0.026939455419778824\n",
      "loss1 0.02271132729947567\n",
      "loss1 0.02279517985880375\n",
      "loss1 0.02266084775328636\n",
      "loss1 0.023753466084599495\n",
      "loss1 0.02169826813042164\n",
      "loss1 0.011947880499064922\n",
      "loss1 0.013351188972592354\n",
      "loss1 0.013668710365891457\n",
      "loss1 0.01202681940048933\n",
      "loss1 0.012216541916131973\n",
      "loss1 0.010173676535487175\n",
      "loss1 0.008811541832983494\n",
      "loss1 0.00888358149677515\n",
      "loss1 0.009487168863415718\n",
      "loss1 0.011956305243074894\n",
      "loss1 0.014512318186461926\n",
      "loss1 0.015766123309731483\n",
      "loss1 0.013751540333032608\n",
      "loss1 0.012791132554411888\n",
      "loss1 0.012846928089857101\n",
      "loss1 0.008454268798232079\n",
      "Epoch [12], val_loss1: 0.0157, val_loss2: -0.0134\n",
      "loss1 0.05329412594437599\n",
      "loss1 0.03144161030650139\n",
      "loss1 0.023737221956253052\n",
      "loss1 0.016925282776355743\n",
      "loss1 0.020330248400568962\n",
      "loss1 0.017768876627087593\n",
      "loss1 0.021430019289255142\n",
      "loss1 0.0245102159678936\n",
      "loss1 0.02446603588759899\n",
      "loss1 0.02210034430027008\n",
      "loss1 0.013161402195692062\n",
      "loss1 0.014843303710222244\n",
      "loss1 0.014900612644851208\n",
      "loss1 0.013046348467469215\n",
      "loss1 0.012649839743971825\n",
      "loss1 0.01031985878944397\n",
      "loss1 0.008749853819608688\n",
      "loss1 0.008481267839670181\n",
      "loss1 0.008784291334450245\n",
      "loss1 0.0109458202496171\n",
      "loss1 0.013292240910232067\n",
      "loss1 0.01441659964621067\n",
      "loss1 0.012637107633054256\n",
      "loss1 0.011817148886620998\n",
      "loss1 0.011938570998609066\n",
      "loss1 0.00782930850982666\n",
      "Epoch [13], val_loss1: 0.0148, val_loss2: -0.0128\n",
      "loss1 0.03890259563922882\n",
      "loss1 0.01836988888680935\n",
      "loss1 0.019755594432353973\n",
      "loss1 0.015445835888385773\n",
      "loss1 0.01854361593723297\n",
      "loss1 0.015283124521374702\n",
      "loss1 0.016495270654559135\n",
      "loss1 0.01719050109386444\n",
      "loss1 0.020441995933651924\n",
      "loss1 0.020275507122278214\n",
      "loss1 0.011097462847828865\n",
      "loss1 0.012274082750082016\n",
      "loss1 0.012519574724137783\n",
      "loss1 0.011538718827068806\n",
      "loss1 0.011037623509764671\n",
      "loss1 0.008744818158447742\n",
      "loss1 0.0073890071362257\n",
      "loss1 0.007288975175470114\n",
      "loss1 0.007857635617256165\n",
      "loss1 0.010234171524643898\n",
      "loss1 0.012706972658634186\n",
      "loss1 0.01353221945464611\n",
      "loss1 0.011639241129159927\n",
      "loss1 0.010772131383419037\n",
      "loss1 0.010806724429130554\n",
      "loss1 0.007373255677521229\n",
      "Epoch [14], val_loss1: 0.0135, val_loss2: -0.0118\n",
      "loss1 0.039889127016067505\n",
      "loss1 0.016098856925964355\n",
      "loss1 0.01685526967048645\n",
      "loss1 0.012797572650015354\n",
      "loss1 0.015812139958143234\n",
      "loss1 0.013631608337163925\n",
      "loss1 0.015083787962794304\n",
      "loss1 0.015093544498085976\n",
      "loss1 0.01899828389286995\n",
      "loss1 0.019578348845243454\n",
      "loss1 0.010970894247293472\n",
      "loss1 0.012278270907700062\n",
      "loss1 0.01263609528541565\n",
      "loss1 0.011820074170827866\n",
      "loss1 0.011634512804448605\n",
      "loss1 0.009881747886538506\n",
      "loss1 0.008965114131569862\n",
      "loss1 0.008462084457278252\n",
      "loss1 0.008060656487941742\n",
      "loss1 0.00946563296020031\n",
      "loss1 0.011326332576572895\n",
      "loss1 0.011842677369713783\n",
      "loss1 0.009919856674969196\n",
      "loss1 0.009024512022733688\n",
      "loss1 0.009127811528742313\n",
      "loss1 0.006956753320991993\n",
      "Epoch [15], val_loss1: 0.0119, val_loss2: -0.0105\n",
      "loss1 0.04555044323205948\n",
      "loss1 0.016628872603178024\n",
      "loss1 0.01621849276125431\n",
      "loss1 0.012849620543420315\n",
      "loss1 0.01586865819990635\n",
      "loss1 0.014996630139648914\n",
      "loss1 0.01730353571474552\n",
      "loss1 0.015607052482664585\n",
      "loss1 0.02022840641438961\n",
      "loss1 0.021337853744626045\n",
      "loss1 0.010104903019964695\n",
      "loss1 0.011170745827257633\n",
      "loss1 0.011915159411728382\n",
      "loss1 0.011046047322452068\n",
      "loss1 0.010622307658195496\n",
      "loss1 0.008643904700875282\n",
      "loss1 0.0074431817047297955\n",
      "loss1 0.007136463187634945\n",
      "loss1 0.007717642933130264\n",
      "loss1 0.009103898890316486\n",
      "loss1 0.011157403700053692\n",
      "loss1 0.011699670925736427\n",
      "loss1 0.009543376043438911\n",
      "loss1 0.00870887003839016\n",
      "loss1 0.008947113528847694\n",
      "loss1 0.007100860122591257\n",
      "Epoch [16], val_loss1: 0.0123, val_loss2: -0.0109\n",
      "loss1 0.04137398302555084\n",
      "loss1 0.01901951991021633\n",
      "loss1 0.016723699867725372\n",
      "loss1 0.012520123273134232\n",
      "loss1 0.015310181304812431\n",
      "loss1 0.015126473270356655\n",
      "loss1 0.017259705811738968\n",
      "loss1 0.01560924481600523\n",
      "loss1 0.021233173087239265\n",
      "loss1 0.0240937452763319\n",
      "loss1 0.010667388327419758\n",
      "loss1 0.010865489020943642\n",
      "loss1 0.01146824099123478\n",
      "loss1 0.010803714394569397\n",
      "loss1 0.010791029781103134\n",
      "loss1 0.00786750577390194\n",
      "loss1 0.005407277029007673\n",
      "loss1 0.005024807993322611\n",
      "loss1 0.006748849060386419\n",
      "loss1 0.008012548089027405\n",
      "loss1 0.010130422189831734\n",
      "loss1 0.011474080383777618\n",
      "loss1 0.009488267824053764\n",
      "loss1 0.008445043116807938\n",
      "loss1 0.008799698203802109\n",
      "loss1 0.007524580229073763\n",
      "Epoch [17], val_loss1: 0.0128, val_loss2: -0.0115\n",
      "loss1 0.049001213163137436\n",
      "loss1 0.026661768555641174\n",
      "loss1 0.019140951335430145\n",
      "loss1 0.011224099434912205\n",
      "loss1 0.013335171155631542\n",
      "loss1 0.011539962142705917\n",
      "loss1 0.01723751612007618\n",
      "loss1 0.019536560401320457\n",
      "loss1 0.03826729208230972\n",
      "loss1 0.024587061256170273\n",
      "loss1 0.010822799988090992\n",
      "loss1 0.011440463364124298\n",
      "loss1 0.013486875221133232\n",
      "loss1 0.012606276199221611\n",
      "loss1 0.013472167775034904\n",
      "loss1 0.012141900137066841\n",
      "loss1 0.011097900569438934\n",
      "loss1 0.01086418516933918\n",
      "loss1 0.010888095013797283\n",
      "loss1 0.012304650619626045\n",
      "loss1 0.01353021152317524\n",
      "loss1 0.014195465482771397\n",
      "loss1 0.0117436982691288\n",
      "loss1 0.01025038119405508\n",
      "loss1 0.010089168325066566\n",
      "loss1 0.007408876903355122\n",
      "Epoch [18], val_loss1: 0.0135, val_loss2: -0.0122\n",
      "loss1 0.04410393536090851\n",
      "loss1 0.01465462613850832\n",
      "loss1 0.015668146312236786\n",
      "loss1 0.012169069610536098\n",
      "loss1 0.014699539169669151\n",
      "loss1 0.012608864344656467\n",
      "loss1 0.01420573890209198\n",
      "loss1 0.012834672816097736\n",
      "loss1 0.017001697793602943\n",
      "loss1 0.020977498963475227\n",
      "loss1 0.015152299776673317\n",
      "loss1 0.010992856696248055\n",
      "loss1 0.011503946967422962\n",
      "loss1 0.011271078139543533\n",
      "loss1 0.011319197714328766\n",
      "loss1 0.010099444538354874\n",
      "loss1 0.009491991251707077\n",
      "loss1 0.008578392677009106\n",
      "loss1 0.008059527724981308\n",
      "loss1 0.009141996502876282\n",
      "loss1 0.010630777105689049\n",
      "loss1 0.011057906784117222\n",
      "loss1 0.009281883016228676\n",
      "loss1 0.008460696786642075\n",
      "loss1 0.00859920959919691\n",
      "loss1 0.006503575015813112\n",
      "Epoch [19], val_loss1: 0.0118, val_loss2: -0.0107\n",
      "loss1 0.03516709804534912\n",
      "loss1 0.013217954896390438\n",
      "loss1 0.013962656259536743\n",
      "loss1 0.012233758345246315\n",
      "loss1 0.015024351887404919\n",
      "loss1 0.012194427661597729\n",
      "loss1 0.012798123992979527\n",
      "loss1 0.012194706127047539\n",
      "loss1 0.016931118443608284\n",
      "loss1 0.021616436541080475\n",
      "loss1 0.010196196846663952\n",
      "loss1 0.010747523978352547\n",
      "loss1 0.011081044562160969\n",
      "loss1 0.010461353696882725\n",
      "loss1 0.010207805782556534\n",
      "loss1 0.008855105377733707\n",
      "loss1 0.00875627901405096\n",
      "loss1 0.00937339011579752\n",
      "loss1 0.010421558283269405\n",
      "loss1 0.01229044795036316\n",
      "loss1 0.013535796664655209\n",
      "loss1 0.011725050397217274\n",
      "loss1 0.009414429776370525\n",
      "loss1 0.008347480557858944\n",
      "loss1 0.008384100161492825\n",
      "loss1 0.008214966394007206\n",
      "Epoch [20], val_loss1: 0.0117, val_loss2: -0.0107\n",
      "loss1 0.03176531568169594\n",
      "loss1 0.011479913257062435\n",
      "loss1 0.015135570429265499\n",
      "loss1 0.01145089603960514\n",
      "loss1 0.011289545334875584\n",
      "loss1 0.009733892977237701\n",
      "loss1 0.011632625944912434\n",
      "loss1 0.012763839215040207\n",
      "loss1 0.018314028158783913\n",
      "loss1 0.022748839110136032\n",
      "loss1 0.009477993473410606\n",
      "loss1 0.008879766799509525\n",
      "loss1 0.008774453774094582\n",
      "loss1 0.007541871629655361\n",
      "loss1 0.006900934036821127\n",
      "loss1 0.0057840971276164055\n",
      "loss1 0.005797324236482382\n",
      "loss1 0.006480499170720577\n",
      "loss1 0.007699060719460249\n",
      "loss1 0.010223589837551117\n",
      "loss1 0.01164235919713974\n",
      "loss1 0.011630118824541569\n",
      "loss1 0.009588288143277168\n",
      "loss1 0.008231904357671738\n",
      "loss1 0.007637800183147192\n",
      "loss1 0.008082989603281021\n",
      "Epoch [21], val_loss1: 0.0109, val_loss2: -0.0100\n",
      "loss1 0.03227910026907921\n",
      "loss1 0.010736458003520966\n",
      "loss1 0.011342000216245651\n",
      "loss1 0.009211699478328228\n"
     ]
    },
    {
     "name": "stdout",
     "output_type": "stream",
     "text": [
      "loss1 0.011709111742675304\n",
      "loss1 0.01014755666255951\n",
      "loss1 0.012434960342943668\n",
      "loss1 0.012171139940619469\n",
      "loss1 0.017716998234391212\n",
      "loss1 0.02256758324801922\n",
      "loss1 0.009467769414186478\n",
      "loss1 0.008501830510795116\n",
      "loss1 0.008021236397325993\n",
      "loss1 0.006376470904797316\n",
      "loss1 0.005511391442269087\n",
      "loss1 0.004152658395469189\n",
      "loss1 0.0036938951816409826\n",
      "loss1 0.0032443723175674677\n",
      "loss1 0.0034239739179611206\n",
      "loss1 0.00563938869163394\n",
      "loss1 0.008174682036042213\n",
      "loss1 0.008955731056630611\n",
      "loss1 0.007329783868044615\n",
      "loss1 0.007501065265387297\n",
      "loss1 0.008343466557562351\n",
      "loss1 0.008494013920426369\n",
      "Epoch [22], val_loss1: 0.0104, val_loss2: -0.0096\n",
      "loss1 0.034151867032051086\n",
      "loss1 0.01423993892967701\n",
      "loss1 0.009775296784937382\n",
      "loss1 0.007429924327880144\n",
      "loss1 0.010454538278281689\n",
      "loss1 0.009049737825989723\n",
      "loss1 0.011125840246677399\n",
      "loss1 0.010864567011594772\n",
      "loss1 0.012745204381644726\n",
      "loss1 0.016403088346123695\n",
      "loss1 0.009300898760557175\n",
      "loss1 0.008548707701265812\n",
      "loss1 0.0073536597192287445\n",
      "loss1 0.005985307041555643\n",
      "loss1 0.005339638330042362\n",
      "loss1 0.0036943303421139717\n",
      "loss1 0.002880337182432413\n",
      "loss1 0.002522241324186325\n",
      "loss1 0.002809183206409216\n",
      "loss1 0.004919104278087616\n",
      "loss1 0.007463137619197369\n",
      "loss1 0.008762101642787457\n",
      "loss1 0.009041417390108109\n",
      "loss1 0.009264329448342323\n",
      "loss1 0.0074806977063417435\n",
      "loss1 0.007109280675649643\n",
      "Epoch [23], val_loss1: 0.0099, val_loss2: -0.0091\n",
      "loss1 0.03886900842189789\n",
      "loss1 0.022307781502604485\n",
      "loss1 0.018556931987404823\n",
      "loss1 0.008893799036741257\n",
      "loss1 0.009702775627374649\n",
      "loss1 0.006413390394300222\n",
      "loss1 0.008341724053025246\n",
      "loss1 0.011193234473466873\n",
      "loss1 0.012592976912856102\n",
      "loss1 0.010706553235650063\n",
      "loss1 0.00900733657181263\n",
      "loss1 0.008252396248281002\n",
      "loss1 0.007495223078876734\n",
      "loss1 0.0060951318591833115\n",
      "loss1 0.005318772979080677\n",
      "loss1 0.0035439624916762114\n",
      "loss1 0.0026702815666794777\n",
      "loss1 0.002316192025318742\n",
      "loss1 0.002645860193297267\n",
      "loss1 0.004686796572059393\n",
      "loss1 0.0071874456480145454\n",
      "loss1 0.009538663551211357\n",
      "loss1 0.012299519963562489\n",
      "loss1 0.010583200491964817\n",
      "loss1 0.006704164668917656\n",
      "loss1 0.006765672937035561\n",
      "Epoch [24], val_loss1: 0.0092, val_loss2: -0.0084\n",
      "loss1 0.030977653339505196\n",
      "loss1 0.010540645569562912\n",
      "loss1 0.00783669762313366\n",
      "loss1 0.00558527372777462\n",
      "loss1 0.00812515802681446\n",
      "loss1 0.00537139130756259\n",
      "loss1 0.006515379995107651\n",
      "loss1 0.007929431274533272\n",
      "loss1 0.012018137611448765\n",
      "loss1 0.013997401110827923\n",
      "loss1 0.00651191221550107\n",
      "loss1 0.008259125053882599\n",
      "loss1 0.00952781829982996\n",
      "loss1 0.009046215564012527\n",
      "loss1 0.007996970787644386\n",
      "loss1 0.00560764828696847\n",
      "loss1 0.0036608856171369553\n",
      "loss1 0.002607910195365548\n",
      "loss1 0.002602667547762394\n",
      "loss1 0.004431306384503841\n",
      "loss1 0.006728217471390963\n",
      "loss1 0.007705388590693474\n",
      "loss1 0.006943443790078163\n",
      "loss1 0.007921588607132435\n",
      "loss1 0.008398233912885189\n",
      "loss1 0.008693442679941654\n",
      "Epoch [25], val_loss1: 0.0095, val_loss2: -0.0088\n",
      "loss1 0.028628189116716385\n",
      "loss1 0.010329434648156166\n",
      "loss1 0.009661590680480003\n",
      "loss1 0.006888402625918388\n",
      "loss1 0.00823117233812809\n",
      "loss1 0.006072432734072208\n",
      "loss1 0.007593774236738682\n",
      "loss1 0.008888304233551025\n",
      "loss1 0.018533920869231224\n",
      "loss1 0.018272921442985535\n",
      "loss1 0.005954295862466097\n",
      "loss1 0.007065722718834877\n",
      "loss1 0.008140160702168941\n",
      "loss1 0.013617830350995064\n",
      "loss1 0.01908295787870884\n",
      "loss1 0.015668828040361404\n",
      "loss1 0.007318652234971523\n",
      "loss1 0.003900473937392235\n",
      "loss1 0.0030118634458631277\n",
      "loss1 0.00492508988827467\n",
      "loss1 0.007202915847301483\n",
      "loss1 0.007898355834186077\n",
      "loss1 0.006568875163793564\n",
      "loss1 0.009459373541176319\n",
      "loss1 0.013788861222565174\n",
      "loss1 0.01181066781282425\n",
      "Epoch [26], val_loss1: 0.0094, val_loss2: -0.0087\n",
      "loss1 0.02719750441610813\n",
      "loss1 0.009505786933004856\n",
      "loss1 0.007345032412558794\n",
      "loss1 0.006079990416765213\n",
      "loss1 0.008526257239282131\n",
      "loss1 0.00656753359362483\n",
      "loss1 0.007761410903185606\n",
      "loss1 0.008866473101079464\n",
      "loss1 0.016697824001312256\n",
      "loss1 0.01894436590373516\n",
      "loss1 0.005965621676295996\n",
      "loss1 0.006575318053364754\n",
      "loss1 0.006926433648914099\n",
      "loss1 0.006244378164410591\n",
      "loss1 0.005497948732227087\n",
      "loss1 0.003613020060583949\n",
      "loss1 0.0026133640203624964\n",
      "loss1 0.0021502701565623283\n",
      "loss1 0.00223663542419672\n",
      "loss1 0.0040636807680130005\n",
      "loss1 0.0062774913385510445\n",
      "loss1 0.007130093406885862\n",
      "loss1 0.005621777847409248\n",
      "loss1 0.005483996123075485\n",
      "loss1 0.007908186875283718\n",
      "loss1 0.016285402700304985\n",
      "Epoch [27], val_loss1: 0.0112, val_loss2: -0.0106\n",
      "loss1 0.03996943682432175\n",
      "loss1 0.01630343310534954\n",
      "loss1 0.009229823015630245\n",
      "loss1 0.00544933695346117\n",
      "loss1 0.006325253285467625\n",
      "loss1 0.005769770126789808\n",
      "loss1 0.008483735844492912\n",
      "loss1 0.012527406215667725\n",
      "loss1 0.016888896003365517\n",
      "loss1 0.01875501498579979\n",
      "loss1 0.005803144071251154\n",
      "loss1 0.005762296263128519\n",
      "loss1 0.006080963648855686\n",
      "loss1 0.00553102558478713\n",
      "loss1 0.0050555323250591755\n",
      "loss1 0.003463641507551074\n",
      "loss1 0.0026761507615447044\n",
      "loss1 0.002597117330878973\n",
      "loss1 0.004861957393586636\n",
      "loss1 0.010284379124641418\n",
      "loss1 0.010613162070512772\n",
      "loss1 0.0072348336689174175\n",
      "loss1 0.005784967914223671\n",
      "loss1 0.005129243712872267\n",
      "loss1 0.005544404033571482\n",
      "loss1 0.007624829653650522\n",
      "Epoch [28], val_loss1: 0.0123, val_loss2: -0.0117\n",
      "loss1 0.03589866682887077\n",
      "loss1 0.025930605828762054\n",
      "loss1 0.01931034028530121\n",
      "loss1 0.007237108889967203\n",
      "loss1 0.00719166686758399\n",
      "loss1 0.0053604282438755035\n",
      "loss1 0.008011197671294212\n",
      "loss1 0.013077814131975174\n",
      "loss1 0.016406957060098648\n",
      "loss1 0.018380247056484222\n",
      "loss1 0.005525863263756037\n",
      "loss1 0.005787303671240807\n",
      "loss1 0.005998506676405668\n",
      "loss1 0.005280125420540571\n",
      "loss1 0.004646385088562965\n",
      "loss1 0.0031832712702453136\n",
      "loss1 0.0025450573302805424\n",
      "loss1 0.0023471771273761988\n",
      "loss1 0.0027092285454273224\n",
      "loss1 0.004738769493997097\n",
      "loss1 0.006959265563637018\n",
      "loss1 0.007701275870203972\n",
      "loss1 0.0058465334586799145\n",
      "loss1 0.0051348148845136166\n",
      "loss1 0.006518188863992691\n",
      "loss1 0.011464575305581093\n",
      "Epoch [29], val_loss1: 0.0158, val_loss2: -0.0152\n",
      "loss1 0.05179321765899658\n",
      "loss1 0.012313860468566418\n",
      "loss1 0.00947719905525446\n",
      "loss1 0.005868288688361645\n",
      "loss1 0.00765049597248435\n",
      "loss1 0.005374254193156958\n",
      "loss1 0.00641478318721056\n",
      "loss1 0.008126764558255672\n",
      "loss1 0.01726962998509407\n",
      "loss1 0.02922830544412136\n",
      "loss1 0.005858589895069599\n",
      "loss1 0.006033358164131641\n",
      "loss1 0.006806458346545696\n",
      "loss1 0.011371968314051628\n",
      "loss1 0.01616663672029972\n",
      "loss1 0.012436654418706894\n",
      "loss1 0.007892792113125324\n",
      "loss1 0.009266175329685211\n",
      "loss1 0.012237847782671452\n",
      "loss1 0.015025933273136616\n",
      "loss1 0.01031556073576212\n",
      "loss1 0.00836190301924944\n",
      "loss1 0.007865732535719872\n",
      "loss1 0.010363624431192875\n",
      "loss1 0.013654925860464573\n",
      "loss1 0.015905937179923058\n",
      "Epoch [30], val_loss1: 0.0134, val_loss2: -0.0128\n",
      "loss1 0.04794842004776001\n",
      "loss1 0.011114167980849743\n",
      "loss1 0.006509057246148586\n",
      "loss1 0.00450496282428503\n",
      "loss1 0.008670351468026638\n",
      "loss1 0.00879736989736557\n",
      "loss1 0.01184506993740797\n",
      "loss1 0.010757011361420155\n",
      "loss1 0.0179731547832489\n",
      "loss1 0.029290061444044113\n",
      "loss1 0.007847905158996582\n",
      "loss1 0.007443632464855909\n",
      "loss1 0.006848984397947788\n",
      "loss1 0.0066570015624165535\n",
      "loss1 0.009643293917179108\n",
      "loss1 0.009748374111950397\n",
      "loss1 0.010954588651657104\n",
      "loss1 0.01247507892549038\n",
      "loss1 0.012397199869155884\n",
      "loss1 0.013430007733404636\n",
      "loss1 0.013960318639874458\n",
      "loss1 0.008046154864132404\n",
      "loss1 0.006181708537042141\n",
      "loss1 0.005639541428536177\n",
      "loss1 0.008925196714699268\n",
      "loss1 0.02103476971387863\n",
      "Epoch [31], val_loss1: 0.0153, val_loss2: -0.0147\n",
      "loss1 0.03736748918890953\n",
      "loss1 0.011540365405380726\n",
      "loss1 0.010306408628821373\n",
      "loss1 0.006149014458060265\n",
      "loss1 0.007254904136061668\n",
      "loss1 0.00843549519777298\n",
      "loss1 0.013293959200382233\n",
      "loss1 0.0124559560790658\n",
      "loss1 0.020727351307868958\n",
      "loss1 0.024197837337851524\n",
      "loss1 0.006977538578212261\n",
      "loss1 0.008576096035540104\n",
      "loss1 0.009639935567975044\n",
      "loss1 0.009083214215934277\n",
      "loss1 0.008426075801253319\n",
      "loss1 0.005704185925424099\n",
      "loss1 0.0032909545116126537\n",
      "loss1 0.0024085629265755415\n",
      "loss1 0.0027702338993549347\n",
      "loss1 0.004997988231480122\n",
      "loss1 0.00797958392649889\n",
      "loss1 0.009345763362944126\n",
      "loss1 0.006648794747889042\n",
      "loss1 0.005314752459526062\n",
      "loss1 0.005380280781537294\n",
      "loss1 0.005489136558026075\n",
      "Epoch [32], val_loss1: 0.0113, val_loss2: -0.0108\n",
      "loss1 0.020112521946430206\n",
      "loss1 0.01709386706352234\n"
     ]
    },
    {
     "name": "stdout",
     "output_type": "stream",
     "text": [
      "loss1 0.01646498218178749\n",
      "loss1 0.009794299490749836\n",
      "loss1 0.007955702021718025\n",
      "loss1 0.004965238738805056\n",
      "loss1 0.0050977738574147224\n",
      "loss1 0.006851584184914827\n",
      "loss1 0.012513319030404091\n",
      "loss1 0.029936427250504494\n",
      "loss1 0.02075597271323204\n",
      "loss1 0.01920466125011444\n",
      "loss1 0.008742584846913815\n",
      "loss1 0.006771185901015997\n",
      "loss1 0.00693148048594594\n",
      "loss1 0.007444031536579132\n",
      "loss1 0.009784272871911526\n",
      "loss1 0.021749289706349373\n",
      "loss1 0.010113749653100967\n",
      "loss1 0.009251825511455536\n",
      "loss1 0.010963241569697857\n",
      "loss1 0.011339915916323662\n",
      "loss1 0.010044707916676998\n",
      "loss1 0.010246273130178452\n",
      "loss1 0.011439156718552113\n",
      "loss1 0.011659722775220871\n",
      "Epoch [33], val_loss1: 0.0155, val_loss2: -0.0149\n",
      "loss1 0.024340564385056496\n",
      "loss1 0.011341746896505356\n",
      "loss1 0.008460121229290962\n",
      "loss1 0.006395282223820686\n",
      "loss1 0.008828516118228436\n",
      "loss1 0.005434432998299599\n",
      "loss1 0.005846315063536167\n",
      "loss1 0.00695424759760499\n",
      "loss1 0.011123846285045147\n",
      "loss1 0.01189696229994297\n",
      "loss1 0.016451971605420113\n",
      "loss1 0.017335502430796623\n",
      "loss1 0.0167082566767931\n",
      "loss1 0.013550895266234875\n",
      "loss1 0.010870413854718208\n",
      "loss1 0.007567386142909527\n",
      "loss1 0.005192363169044256\n",
      "loss1 0.003592384746298194\n",
      "loss1 0.0039813341572880745\n",
      "loss1 0.006256082560867071\n",
      "loss1 0.008884592913091183\n",
      "loss1 0.010379839688539505\n",
      "loss1 0.00879812054336071\n",
      "loss1 0.007573459763079882\n",
      "loss1 0.006896327715367079\n",
      "loss1 0.004739971831440926\n",
      "Epoch [34], val_loss1: 0.0097, val_loss2: -0.0092\n",
      "loss1 0.06889573484659195\n",
      "loss1 0.015321135520935059\n",
      "loss1 0.0065475343726575375\n",
      "loss1 0.004969187546521425\n",
      "loss1 0.011154251173138618\n",
      "loss1 0.008629106916487217\n",
      "loss1 0.01207057572901249\n",
      "loss1 0.015025846660137177\n",
      "loss1 0.016605429351329803\n",
      "loss1 0.009154452942311764\n",
      "loss1 0.017065709456801414\n",
      "loss1 0.014829379506409168\n",
      "loss1 0.00974004901945591\n",
      "loss1 0.008026571944355965\n",
      "loss1 0.0083193089812994\n",
      "loss1 0.006428413093090057\n",
      "loss1 0.004982892423868179\n",
      "loss1 0.003932085353881121\n",
      "loss1 0.003182913875207305\n",
      "loss1 0.0046383594162762165\n",
      "loss1 0.0070660593919456005\n",
      "loss1 0.00827648676931858\n",
      "loss1 0.007144888862967491\n",
      "loss1 0.006632322445511818\n",
      "loss1 0.0067542497999966145\n",
      "loss1 0.004554313607513905\n",
      "Epoch [35], val_loss1: 0.0099, val_loss2: -0.0094\n",
      "loss1 0.029583565890789032\n",
      "loss1 0.015058423392474651\n",
      "loss1 0.016084417700767517\n",
      "loss1 0.01147712953388691\n",
      "loss1 0.012261650525033474\n",
      "loss1 0.007172462530434132\n",
      "loss1 0.006047432776540518\n",
      "loss1 0.007206046488136053\n",
      "loss1 0.011059449054300785\n",
      "loss1 0.008757567964494228\n",
      "loss1 0.006366822402924299\n",
      "loss1 0.007040718570351601\n",
      "loss1 0.0072523243725299835\n",
      "loss1 0.006502095144242048\n",
      "loss1 0.006287109572440386\n",
      "loss1 0.00539550743997097\n",
      "loss1 0.004965790081769228\n",
      "loss1 0.00385468453168869\n",
      "loss1 0.003223251551389694\n",
      "loss1 0.004404693841934204\n",
      "loss1 0.0064833275973796844\n",
      "loss1 0.007314012851566076\n",
      "loss1 0.005682708695530891\n",
      "loss1 0.004858830943703651\n",
      "loss1 0.004992357920855284\n",
      "loss1 0.004566172603517771\n",
      "Epoch [36], val_loss1: 0.0085, val_loss2: -0.0080\n",
      "loss1 0.04620981216430664\n",
      "loss1 0.023441938683390617\n",
      "loss1 0.009753765538334846\n",
      "loss1 0.006516250781714916\n",
      "loss1 0.010526876896619797\n",
      "loss1 0.007649093866348267\n",
      "loss1 0.007542508654296398\n",
      "loss1 0.00823909416794777\n",
      "loss1 0.016303297132253647\n",
      "loss1 0.030257752165198326\n",
      "loss1 0.02815208211541176\n",
      "loss1 0.011463022790849209\n",
      "loss1 0.007834050804376602\n",
      "loss1 0.006741929333657026\n",
      "loss1 0.006401204504072666\n",
      "loss1 0.006762664765119553\n",
      "loss1 0.011275967583060265\n",
      "loss1 0.014492006972432137\n",
      "loss1 0.0156130101531744\n",
      "loss1 0.017166489735245705\n",
      "loss1 0.013177241198718548\n",
      "loss1 0.008197684772312641\n",
      "loss1 0.005713683553040028\n",
      "loss1 0.005076494533568621\n",
      "loss1 0.005433031357824802\n",
      "loss1 0.005385843571275473\n",
      "Epoch [37], val_loss1: 0.0096, val_loss2: -0.0091\n",
      "loss1 0.03783479332923889\n",
      "loss1 0.01100396178662777\n",
      "loss1 0.009150909259915352\n",
      "loss1 0.0066159386187791824\n",
      "loss1 0.007573004812002182\n",
      "loss1 0.006937852595001459\n",
      "loss1 0.00794884841889143\n",
      "loss1 0.009025352075695992\n",
      "loss1 0.014506978914141655\n",
      "loss1 0.02024701051414013\n",
      "loss1 0.007750111166387796\n",
      "loss1 0.0077026113867759705\n",
      "loss1 0.0073750377632677555\n",
      "loss1 0.0059620654210448265\n",
      "loss1 0.005089009180665016\n",
      "loss1 0.003294665366411209\n",
      "loss1 0.0023934415075927973\n",
      "loss1 0.0018916017143055797\n",
      "loss1 0.002094619208946824\n",
      "loss1 0.004027336370199919\n",
      "loss1 0.00661530252546072\n",
      "loss1 0.007780066225677729\n",
      "loss1 0.006206923630088568\n",
      "loss1 0.005506892688572407\n",
      "loss1 0.005768109578639269\n",
      "loss1 0.005779920611530542\n",
      "Epoch [38], val_loss1: 0.0096, val_loss2: -0.0091\n",
      "loss1 0.0378568135201931\n",
      "loss1 0.009288668632507324\n",
      "loss1 0.007157939951866865\n",
      "loss1 0.005256298463791609\n",
      "loss1 0.0052102310582995415\n",
      "loss1 0.003790991846472025\n",
      "loss1 0.004175093956291676\n",
      "loss1 0.00531429797410965\n",
      "loss1 0.008720827288925648\n",
      "loss1 0.009271008893847466\n",
      "loss1 0.0046307691372931\n",
      "loss1 0.0054329680278897285\n",
      "loss1 0.005851916037499905\n",
      "loss1 0.00528251426294446\n",
      "loss1 0.004783707670867443\n",
      "loss1 0.003196780802682042\n",
      "loss1 0.002368510700762272\n",
      "loss1 0.001854299334809184\n",
      "loss1 0.0019122968660667539\n",
      "loss1 0.0036291570868343115\n",
      "loss1 0.006107379216700792\n",
      "loss1 0.007145348004996777\n",
      "loss1 0.005566003266721964\n",
      "loss1 0.004845040384680033\n",
      "loss1 0.005081876181066036\n",
      "loss1 0.005225110799074173\n",
      "Epoch [39], val_loss1: 0.0088, val_loss2: -0.0084\n",
      "loss1 0.04027622565627098\n",
      "loss1 0.012514522299170494\n",
      "loss1 0.009013863280415535\n",
      "loss1 0.005605105310678482\n",
      "loss1 0.006900288164615631\n",
      "loss1 0.0048047262243926525\n",
      "loss1 0.005173329263925552\n",
      "loss1 0.006399231962859631\n",
      "loss1 0.009220020845532417\n",
      "loss1 0.009269088506698608\n",
      "loss1 0.0052176485769450665\n",
      "loss1 0.0059729088097810745\n",
      "loss1 0.006441228091716766\n",
      "loss1 0.005885527469217777\n",
      "loss1 0.0053458004258573055\n",
      "loss1 0.0036056055687367916\n",
      "loss1 0.002632698742672801\n",
      "loss1 0.00195927731692791\n",
      "loss1 0.0018554343841969967\n",
      "loss1 0.00329037313349545\n",
      "loss1 0.0054780347272753716\n",
      "loss1 0.00645965663716197\n",
      "loss1 0.00507004652172327\n",
      "loss1 0.004443429410457611\n",
      "loss1 0.004698092117905617\n",
      "loss1 0.004810758866369724\n",
      "Epoch [40], val_loss1: 0.0086, val_loss2: -0.0082\n",
      "loss1 0.02353522926568985\n",
      "loss1 0.007009670604020357\n",
      "loss1 0.005329043138772249\n",
      "loss1 0.004130547866225243\n",
      "loss1 0.005047701299190521\n",
      "loss1 0.003960477188229561\n",
      "loss1 0.004450096748769283\n",
      "loss1 0.0052231005392968655\n",
      "loss1 0.008359973318874836\n",
      "loss1 0.008415709249675274\n",
      "loss1 0.004802398849278688\n",
      "loss1 0.005691909231245518\n",
      "loss1 0.0060995412059128284\n",
      "loss1 0.005466187838464975\n",
      "loss1 0.004852179437875748\n",
      "loss1 0.003149753902107477\n",
      "loss1 0.0022425323259085417\n",
      "loss1 0.0016608407022431493\n",
      "loss1 0.001690358272753656\n",
      "loss1 0.003312821500003338\n",
      "loss1 0.005744537338614464\n",
      "loss1 0.0067772953771054745\n",
      "loss1 0.005242967512458563\n",
      "loss1 0.004545197822153568\n",
      "loss1 0.00479846028611064\n",
      "loss1 0.00503725279122591\n",
      "Epoch [41], val_loss1: 0.0085, val_loss2: -0.0081\n",
      "loss1 0.022721469402313232\n",
      "loss1 0.00879540853202343\n",
      "loss1 0.006358163431286812\n",
      "loss1 0.0040702917613089085\n",
      "loss1 0.005387656390666962\n",
      "loss1 0.003944071475416422\n",
      "loss1 0.004386300686746836\n",
      "loss1 0.005506427027285099\n",
      "loss1 0.008256952278316021\n",
      "loss1 0.007232324220240116\n",
      "loss1 0.004707396030426025\n",
      "loss1 0.005604476202279329\n",
      "loss1 0.006059220526367426\n",
      "loss1 0.005507186986505985\n",
      "loss1 0.0049355970695614815\n",
      "loss1 0.0032227858901023865\n",
      "loss1 0.002286844188347459\n",
      "loss1 0.0016623943811282516\n",
      "loss1 0.0016111214645206928\n",
      "loss1 0.003147238167002797\n",
      "loss1 0.005455511622130871\n",
      "loss1 0.006455747876316309\n",
      "loss1 0.005025983322411776\n",
      "loss1 0.004392912145704031\n",
      "loss1 0.00466084573417902\n",
      "loss1 0.0048512485809624195\n",
      "Epoch [42], val_loss1: 0.0085, val_loss2: -0.0081\n",
      "loss1 0.01628074049949646\n",
      "loss1 0.006774472072720528\n",
      "loss1 0.005124407354742289\n",
      "loss1 0.00425688037648797\n",
      "loss1 0.005869385786354542\n",
      "loss1 0.005038951523602009\n",
      "loss1 0.005230195354670286\n",
      "loss1 0.005623945035040379\n",
      "loss1 0.008093679323792458\n",
      "loss1 0.0073370784521102905\n",
      "loss1 0.004531216807663441\n",
      "loss1 0.005562892183661461\n",
      "loss1 0.005988036282360554\n",
      "loss1 0.005395799409598112\n",
      "loss1 0.004804474767297506\n",
      "loss1 0.0031172563321888447\n",
      "loss1 0.0022155670449137688\n",
      "loss1 0.0016355105908587575\n",
      "loss1 0.0016488645924255252\n",
      "loss1 0.0032578178215771914\n",
      "loss1 0.0056794071570038795\n",
      "loss1 0.006713437847793102\n",
      "loss1 0.005196193233132362\n",
      "loss1 0.004509661812335253\n",
      "loss1 0.004772763233631849\n",
      "loss1 0.004978660028427839\n",
      "Epoch [43], val_loss1: 0.0084, val_loss2: -0.0081\n"
     ]
    },
    {
     "name": "stdout",
     "output_type": "stream",
     "text": [
      "loss1 0.01955249160528183\n",
      "loss1 0.009833861142396927\n",
      "loss1 0.006346919108182192\n",
      "loss1 0.003908634651452303\n",
      "loss1 0.004993813578039408\n",
      "loss1 0.0037481789477169514\n",
      "loss1 0.0045270537957549095\n",
      "loss1 0.006232202518731356\n",
      "loss1 0.009258358739316463\n",
      "loss1 0.007866570726037025\n",
      "loss1 0.004695008508861065\n",
      "loss1 0.00558522017672658\n",
      "loss1 0.0060303695499897\n",
      "loss1 0.005502623971551657\n",
      "loss1 0.004907825030386448\n",
      "loss1 0.0031895104330033064\n",
      "loss1 0.002243699273094535\n",
      "loss1 0.0016153864562511444\n",
      "loss1 0.0015559963649138808\n",
      "loss1 0.003076207125559449\n",
      "loss1 0.00537553895264864\n",
      "loss1 0.006380915641784668\n",
      "loss1 0.00497150793671608\n",
      "loss1 0.004344541113823652\n",
      "loss1 0.004613714758306742\n",
      "loss1 0.004832204431295395\n",
      "Epoch [44], val_loss1: 0.0085, val_loss2: -0.0081\n",
      "loss1 0.012375591322779655\n",
      "loss1 0.0066599114798009396\n",
      "loss1 0.004751748405396938\n",
      "loss1 0.003698514774441719\n",
      "loss1 0.004643197171390057\n",
      "loss1 0.003538115182891488\n",
      "loss1 0.0038751058746129274\n",
      "loss1 0.004589559976011515\n",
      "loss1 0.006669450551271439\n",
      "loss1 0.005747391376644373\n",
      "loss1 0.004423332866281271\n",
      "loss1 0.005542199593037367\n",
      "loss1 0.005957259330898523\n",
      "loss1 0.005379199981689453\n",
      "loss1 0.00476429145783186\n",
      "loss1 0.0030664836522191763\n",
      "loss1 0.002151366090402007\n",
      "loss1 0.0015672361478209496\n",
      "loss1 0.0015551744727417827\n",
      "loss1 0.003158443607389927\n",
      "loss1 0.0055543952621519566\n",
      "loss1 0.006582475733011961\n",
      "loss1 0.005088417790830135\n",
      "loss1 0.004417942371219397\n",
      "loss1 0.004683126229792833\n",
      "loss1 0.004914342425763607\n",
      "Epoch [45], val_loss1: 0.0086, val_loss2: -0.0082\n",
      "loss1 0.0131895886734128\n",
      "loss1 0.006952791474759579\n",
      "loss1 0.004939199425280094\n",
      "loss1 0.0033346726559102535\n",
      "loss1 0.004261839669197798\n",
      "loss1 0.003425938542932272\n",
      "loss1 0.0039363764226436615\n",
      "loss1 0.004925837740302086\n",
      "loss1 0.0072775473818182945\n",
      "loss1 0.006210132036358118\n",
      "loss1 0.0045646848157048225\n",
      "loss1 0.0055863987654447556\n",
      "loss1 0.006011079531162977\n",
      "loss1 0.005439733620733023\n",
      "loss1 0.0048513635993003845\n",
      "loss1 0.0031363293528556824\n",
      "loss1 0.002199640031903982\n",
      "loss1 0.0015831626951694489\n",
      "loss1 0.0015475013060495257\n",
      "loss1 0.00307995593175292\n",
      "loss1 0.0054175108671188354\n",
      "loss1 0.006420751567929983\n",
      "loss1 0.004978925455361605\n",
      "loss1 0.004344086162745953\n",
      "loss1 0.004624331369996071\n",
      "loss1 0.004840484354645014\n",
      "Epoch [46], val_loss1: 0.0086, val_loss2: -0.0082\n",
      "loss1 0.010047913528978825\n",
      "loss1 0.006179939489811659\n",
      "loss1 0.004385995212942362\n",
      "loss1 0.003090525511652231\n",
      "loss1 0.004036052618175745\n",
      "loss1 0.003040079027414322\n",
      "loss1 0.0035683331079781055\n",
      "loss1 0.00444234162569046\n",
      "loss1 0.006515348330140114\n",
      "loss1 0.005603634286671877\n",
      "loss1 0.004343697801232338\n",
      "loss1 0.005422135349363089\n",
      "loss1 0.005862768739461899\n",
      "loss1 0.0053327372297644615\n",
      "loss1 0.004729220177978277\n",
      "loss1 0.0030473789665848017\n",
      "loss1 0.002129197819158435\n",
      "loss1 0.0015499568544328213\n",
      "loss1 0.0015281462110579014\n",
      "loss1 0.003124741604551673\n",
      "loss1 0.005504916422069073\n",
      "loss1 0.006527563091367483\n",
      "loss1 0.005044410936534405\n",
      "loss1 0.004373861011117697\n",
      "loss1 0.004643923137336969\n",
      "loss1 0.0048726764507591724\n",
      "Epoch [47], val_loss1: 0.0085, val_loss2: -0.0082\n",
      "loss1 0.009487726725637913\n",
      "loss1 0.006399147678166628\n",
      "loss1 0.004497619345784187\n",
      "loss1 0.0031701549887657166\n",
      "loss1 0.0039655049331486225\n",
      "loss1 0.0028484577778726816\n",
      "loss1 0.0032446575351059437\n",
      "loss1 0.0042529115453362465\n",
      "loss1 0.006481196731328964\n",
      "loss1 0.005708662327378988\n",
      "loss1 0.004466405604034662\n",
      "loss1 0.005508119706064463\n",
      "loss1 0.005921654403209686\n",
      "loss1 0.005354112014174461\n",
      "loss1 0.004752545151859522\n",
      "loss1 0.0030474697705358267\n",
      "loss1 0.0021156328730285168\n",
      "loss1 0.001514181960374117\n",
      "loss1 0.0014880591770634055\n",
      "loss1 0.003032376989722252\n",
      "loss1 0.00538604985922575\n",
      "loss1 0.006403780076652765\n",
      "loss1 0.004968224558979273\n",
      "loss1 0.004341738298535347\n",
      "loss1 0.004631358664482832\n",
      "loss1 0.004878208506852388\n",
      "Epoch [48], val_loss1: 0.0087, val_loss2: -0.0084\n",
      "loss1 0.007883933372795582\n",
      "loss1 0.0054046097211539745\n",
      "loss1 0.004235244821757078\n",
      "loss1 0.00294888811185956\n",
      "loss1 0.0038907199632376432\n",
      "loss1 0.002785582561045885\n",
      "loss1 0.003273750888183713\n",
      "loss1 0.004204631317406893\n",
      "loss1 0.005848076660186052\n",
      "loss1 0.004953392315655947\n",
      "loss1 0.004292734432965517\n",
      "loss1 0.005429208278656006\n",
      "loss1 0.005847127642482519\n",
      "loss1 0.005295718554407358\n",
      "loss1 0.004704594612121582\n",
      "loss1 0.0030198656022548676\n",
      "loss1 0.0021007105242460966\n",
      "loss1 0.001508316257968545\n",
      "loss1 0.0014706181827932596\n",
      "loss1 0.003022169228643179\n",
      "loss1 0.005380440503358841\n",
      "loss1 0.006402742117643356\n",
      "loss1 0.004958475474268198\n",
      "loss1 0.004329801071435213\n",
      "loss1 0.004621799569576979\n",
      "loss1 0.0048615578562021255\n",
      "Epoch [49], val_loss1: 0.0086, val_loss2: -0.0083\n"
     ]
    }
   ],
   "source": [
    "history = training(N_EPOCHS,model,train_loader,val_loader)"
   ]
  },
  {
   "cell_type": "code",
   "execution_count": 30,
   "metadata": {
    "ExecuteTime": {
     "end_time": "2021-06-16T11:53:43.538351Z",
     "start_time": "2021-06-16T11:53:43.187710Z"
    },
    "colab": {
     "base_uri": "https://localhost:8080/",
     "height": 295
    },
    "id": "fYwlN0JKVVtN",
    "outputId": "c742ff8b-3b4a-41f5-dd09-effee1be928a"
   },
   "outputs": [
    {
     "data": {
      "image/png": "[encoded data removed]",
      "text/plain": [
       "<Figure size 432x288 with 1 Axes>"
      ]
     },
     "metadata": {
      "needs_background": "light"
     },
     "output_type": "display_data"
    }
   ],
   "source": [
    "plot_history(history)"
   ]
  },
  {
   "cell_type": "code",
   "execution_count": 31,
   "metadata": {
    "ExecuteTime": {
     "end_time": "2021-06-16T11:53:43.803913Z",
     "start_time": "2021-06-16T11:53:43.541933Z"
    }
   },
   "outputs": [
    {
     "data": {
      "text/plain": [
       "torch.Size([7919, 612])"
      ]
     },
     "execution_count": 31,
     "metadata": {},
     "output_type": "execute_result"
    }
   ],
   "source": [
    "next(iter(train_loader))[0].shape"
   ]
  },
  {
   "cell_type": "code",
   "execution_count": 32,
   "metadata": {
    "ExecuteTime": {
     "end_time": "2021-06-16T11:53:43.824157Z",
     "start_time": "2021-06-16T11:53:43.806230Z"
    },
    "id": "ieObNqKYsOzh"
   },
   "outputs": [],
   "source": [
    "torch.save({\n",
    "            'encoder': model.encoder.state_dict(),\n",
    "            'decoder1': model.decoder1.state_dict(),\n",
    "            'decoder2': model.decoder2.state_dict()\n",
    "            }, \"model.pth\")"
   ]
  },
  {
   "cell_type": "markdown",
   "metadata": {
    "id": "ymhjbmvR_DgJ"
   },
   "source": [
    "## Testing"
   ]
  },
  {
   "cell_type": "code",
   "execution_count": 33,
   "metadata": {
    "ExecuteTime": {
     "end_time": "2021-06-16T11:53:43.844991Z",
     "start_time": "2021-06-16T11:53:43.826853Z"
    },
    "colab": {
     "base_uri": "https://localhost:8080/",
     "height": 34
    },
    "id": "b7rbm9wdXKeF",
    "outputId": "076309c7-22be-41f6-f916-5f11cb679672"
   },
   "outputs": [
    {
     "data": {
      "text/plain": [
       "<All keys matched successfully>"
      ]
     },
     "execution_count": 33,
     "metadata": {},
     "output_type": "execute_result"
    }
   ],
   "source": [
    "checkpoint = torch.load(\"model.pth\")\n",
    "\n",
    "model.encoder.load_state_dict(checkpoint['encoder'])\n",
    "model.decoder1.load_state_dict(checkpoint['decoder1'])\n",
    "model.decoder2.load_state_dict(checkpoint['decoder2'])"
   ]
  },
  {
   "cell_type": "code",
   "execution_count": 34,
   "metadata": {
    "ExecuteTime": {
     "end_time": "2021-06-16T11:53:58.003755Z",
     "start_time": "2021-06-16T11:53:43.847659Z"
    },
    "id": "Ry1QTp6V2ny4"
   },
   "outputs": [],
   "source": [
    "results=testing(model,test_loader)"
   ]
  },
  {
   "cell_type": "code",
   "execution_count": 35,
   "metadata": {
    "ExecuteTime": {
     "end_time": "2021-06-16T11:53:58.021947Z",
     "start_time": "2021-06-16T11:53:58.007085Z"
    },
    "id": "FSWwxheNvxR7"
   },
   "outputs": [],
   "source": [
    "y_pred=np.concatenate([torch.stack(results[:-1]).flatten().detach().cpu().numpy(),\n",
    "                              results[-1].flatten().detach().cpu().numpy()])\n",
    "y_test=np.concatenate([np.zeros(windows_normal_test.shape[0]),\n",
    "                       np.ones(windows_attack.shape[0])])"
   ]
  },
  {
   "cell_type": "code",
   "execution_count": 41,
   "metadata": {
    "ExecuteTime": {
     "end_time": "2021-06-16T12:27:48.229241Z",
     "start_time": "2021-06-16T12:27:48.224792Z"
    }
   },
   "outputs": [
    {
     "data": {
      "text/plain": [
       "(697401,)"
      ]
     },
     "execution_count": 41,
     "metadata": {},
     "output_type": "execute_result"
    }
   ],
   "source": [
    "y_pred.shape"
   ]
  },
  {
   "cell_type": "code",
   "execution_count": 42,
   "metadata": {
    "ExecuteTime": {
     "end_time": "2021-06-16T12:27:50.302814Z",
     "start_time": "2021-06-16T12:27:50.297085Z"
    }
   },
   "outputs": [
    {
     "data": {
      "text/plain": [
       "(697401,)"
      ]
     },
     "execution_count": 42,
     "metadata": {},
     "output_type": "execute_result"
    }
   ],
   "source": [
    "y_test.shape"
   ]
  },
  {
   "cell_type": "code",
   "execution_count": 36,
   "metadata": {
    "ExecuteTime": {
     "end_time": "2021-06-16T11:53:58.602128Z",
     "start_time": "2021-06-16T11:53:58.026074Z"
    },
    "colab": {
     "base_uri": "https://localhost:8080/",
     "height": 395
    },
    "id": "S6R9tL9PJc9A",
    "outputId": "ef92dc99-7990-46d3-b049-70ef9f10f738",
    "scrolled": false
   },
   "outputs": [
    {
     "data": {
      "image/png": "[encoded data removed]",
      "text/plain": [
       "<Figure size 864x432 with 1 Axes>"
      ]
     },
     "metadata": {
      "needs_background": "light"
     },
     "output_type": "display_data"
    }
   ],
   "source": [
    "histogram(y_test,y_pred)"
   ]
  },
  {
   "cell_type": "code",
   "execution_count": 48,
   "metadata": {
    "ExecuteTime": {
     "end_time": "2021-06-16T12:29:24.519209Z",
     "start_time": "2021-06-16T12:29:24.513081Z"
    }
   },
   "outputs": [],
   "source": [
    "def ROC(y_test,y_pred):\n",
    "    fpr,tpr,tr=roc_curve(y_test,y_pred)\n",
    "    auc=roc_auc_score(y_test,y_pred)\n",
    "    idx=np.argwhere(np.diff(np.sign(tpr-(1-fpr)))).flatten()\n",
    "    plt.xlabel(\"FPR\")\n",
    "    plt.ylabel(\"TPR\")\n",
    "    plt.plot(fpr,tpr,label=\"AUC=\"+str(auc))\n",
    "    plt.plot(fpr,1-fpr,'r:')\n",
    "    plt.plot(fpr[idx],tpr[idx], 'ro')\n",
    "    plt.legend(loc=4)\n",
    "    plt.grid()\n",
    "    plt.show()\n",
    "    return tr[idx]"
   ]
  },
  {
   "cell_type": "code",
   "execution_count": 47,
   "metadata": {
    "ExecuteTime": {
     "end_time": "2021-06-16T12:29:21.327350Z",
     "start_time": "2021-06-16T12:29:20.160582Z"
    },
    "colab": {
     "base_uri": "https://localhost:8080/",
     "height": 279
    },
    "id": "bROUyLM93cG3",
    "outputId": "755359d9-d0fb-4deb-b313-d3c2a2465a26",
    "scrolled": true
   },
   "outputs": [
    {
     "name": "stdout",
     "output_type": "stream",
     "text": [
      "[1.5109748  0.51097476 0.4909061  ... 0.0039167  0.00391658 0.00351623]\n"
     ]
    },
    {
     "data": {
      "image/png": "[encoded data removed]",
      "text/plain": [
       "<Figure size 432x288 with 1 Axes>"
      ]
     },
     "metadata": {
      "needs_background": "light"
     },
     "output_type": "display_data"
    }
   ],
   "source": [
    "threshold=ROC(y_test,y_pred)"
   ]
  },
  {
   "cell_type": "code",
   "execution_count": 38,
   "metadata": {
    "ExecuteTime": {
     "end_time": "2021-06-16T11:54:00.182324Z",
     "start_time": "2021-06-16T11:53:59.522496Z"
    },
    "colab": {
     "base_uri": "https://localhost:8080/",
     "height": 279
    },
    "id": "8CbQmMjCIl1_",
    "outputId": "25c93a9e-9c5d-449e-8b77-2cc906b269f0"
   },
   "outputs": [
    {
     "data": {
      "image/png": "[encoded data removed]",
      "text/plain": [
       "<Figure size 432x288 with 2 Axes>"
      ]
     },
     "metadata": {
      "needs_background": "light"
     },
     "output_type": "display_data"
    }
   ],
   "source": [
    "confusion_matrix(y_test,np.where(y_pred > threshold, 1, 0),perc=True)"
   ]
  },
  {
   "cell_type": "code",
   "execution_count": null,
   "metadata": {},
   "outputs": [],
   "source": []
  },
  {
   "cell_type": "code",
   "execution_count": null,
   "metadata": {},
   "outputs": [],
   "source": []
  }
 ],
 "metadata": {
  "accelerator": "GPU",
  "colab": {
   "name": "USAD_test.ipynb",
   "provenance": [],
   "toc_visible": true
  },
  "kernelspec": {
   "display_name": "Python 3",
   "language": "python",
   "name": "python3"
  },
  "language_info": {
   "codemirror_mode": {
    "name": "ipython",
    "version": 3
   },
   "file_extension": ".py",
   "mimetype": "text/x-python",
   "name": "python",
   "nbconvert_exporter": "python",
   "pygments_lexer": "ipython3",
   "version": "3.8.5"
  },
  "toc": {
   "base_numbering": 1,
   "nav_menu": {},
   "number_sections": false,
   "sideBar": true,
   "skip_h1_title": false,
   "title_cell": "Table of Contents",
   "title_sidebar": "Contents",
   "toc_cell": false,
   "toc_position": {},
   "toc_section_display": true,
   "toc_window_display": false
  }
 },
 "nbformat": 4,
 "nbformat_minor": 1
}
